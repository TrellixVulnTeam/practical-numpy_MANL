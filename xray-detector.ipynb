{
 "cells": [
  {
   "cell_type": "markdown",
   "metadata": {},
   "source": [
    "# X-ray image processing"
   ]
  },
  {
   "cell_type": "markdown",
   "metadata": {},
   "source": [
    "## Introduction\n",
    "\n",
    "This notebook demonstrates how to read and process X-ray images with `NumPy`, `imageio`, `Matplotlib` and `SciPy` through loading medical images, focusing on certain parts, and visually comparing them using the `Gaussian`, `Laplacian-Gaussian`, `Sobel`, and `Canny` filters for edge detection.\n",
    "\n",
    "X-ray image analysis can be part of anyone's `data analysis and machine learning workflow`. In the healthcare industry, medical image processing and analysis is particularly important when images are estimated to account for at least 90% of all medical data.\n",
    "\n",
    "Radiology images from the [`ChestX-ray8`](https://www.nih.gov/news-events/news-releases/nih-clinical-center-provides-one-largest-publicly-available-chest-x-ray-datasets-scientific-community) dataset provided by the [`National Institutes of Health (NIH)`](https://nih.gov/) is the source of data for this notebook. ChestX-ray8 contains over 100000 de-identified X-ray images in the PNG format from more than 30000 patients. ChestX-ray8’s files can be found on NIH’s public Box repository in the `/images` folder. (For more details, refer to the [`research paper`](https://openaccess.thecvf.com/content_cvpr_2017/papers/Wang_ChestX-ray8_Hospital-Scale_Chest_CVPR_2017_paper.pdf) published at CVPR (a computer vision conference) in 2017.)"
   ]
  },
  {
   "cell_type": "markdown",
   "metadata": {},
   "source": [
    "## Requirements\n",
    "\n",
    "* `Python`, `NumPy` arrays, and `Matplotlib`.\n",
    "* `imageio` for reading and writing image data. The healthcare industry usually works with the `DICOM` format for medical imaging and `imageio` should be well-suited for reading that format. For simplicity, this tutorial will be using simple PNG files.\n",
    "* `Matplotlib` for data visualization.\n",
    "* `SciPy` for multi-dimensional image processing via `ndimage`."
   ]
  },
  {
   "cell_type": "markdown",
   "metadata": {},
   "source": [
    "#### Examine an X-ray with `imageio`\n",
    "\n",
    "Let’s begin with a simple example using just one X-ray image from the ChestX-ray8 dataset."
   ]
  },
  {
   "cell_type": "markdown",
   "metadata": {},
   "source": [
    "1. Load the image with `imageio`:"
   ]
  },
  {
   "cell_type": "code",
   "execution_count": 1,
   "metadata": {},
   "outputs": [
    {
     "name": "stdout",
     "output_type": "stream",
     "text": [
      "downloading data/x-ray-data/images_01.tar.gz ...\n",
      "Uncompressing data/x-ray-data/images_01.tar.gz ...\n",
      "\n",
      "\n",
      "downloading data/x-ray-data/images_02.tar.gz ...\n",
      "Uncompressing data/x-ray-data/images_02.tar.gz ...\n",
      "\n",
      "\n",
      "downloading data/x-ray-data/images_03.tar.gz ...\n",
      "Uncompressing data/x-ray-data/images_03.tar.gz ...\n",
      "\n",
      "\n",
      "downloading data/x-ray-data/images_04.tar.gz ...\n",
      "Uncompressing data/x-ray-data/images_04.tar.gz ...\n",
      "\n",
      "\n",
      "downloading data/x-ray-data/images_05.tar.gz ...\n",
      "Uncompressing data/x-ray-data/images_05.tar.gz ...\n",
      "\n",
      "\n",
      "downloading data/x-ray-data/images_06.tar.gz ...\n",
      "Uncompressing data/x-ray-data/images_06.tar.gz ...\n",
      "\n",
      "\n",
      "downloading data/x-ray-data/images_07.tar.gz ...\n",
      "Uncompressing data/x-ray-data/images_07.tar.gz ...\n",
      "\n",
      "\n",
      "downloading data/x-ray-data/images_08.tar.gz ...\n",
      "Uncompressing data/x-ray-data/images_08.tar.gz ...\n",
      "\n",
      "\n",
      "downloading data/x-ray-data/images_09.tar.gz ...\n",
      "Uncompressing data/x-ray-data/images_09.tar.gz ...\n",
      "\n",
      "\n",
      "downloading data/x-ray-data/images_10.tar.gz ...\n",
      "Uncompressing data/x-ray-data/images_10.tar.gz ...\n",
      "\n",
      "\n",
      "downloading data/x-ray-data/images_11.tar.gz ...\n",
      "Uncompressing data/x-ray-data/images_11.tar.gz ...\n",
      "\n",
      "\n",
      "downloading data/x-ray-data/images_12.tar.gz ...\n",
      "Uncompressing data/x-ray-data/images_12.tar.gz ...\n",
      "\n",
      "\n",
      "Download complete. Please check the checksums\n"
     ]
    }
   ],
   "source": [
    "!python data/x-ray-data/downloader.py"
   ]
  },
  {
   "cell_type": "code",
   "execution_count": 2,
   "metadata": {},
   "outputs": [],
   "source": [
    "import os\n",
    "import imageio\n",
    "\n",
    "DIR = \"data/images\"\n",
    "xray_image = imageio.v2.imread(os.path.join(DIR, \"00000011_001.png\"))"
   ]
  },
  {
   "cell_type": "markdown",
   "metadata": {},
   "source": [
    "2. Check that its shape is 1024x1024 pixels and that the array is made up of 8-bit integers:"
   ]
  },
  {
   "cell_type": "code",
   "execution_count": 3,
   "metadata": {},
   "outputs": [
    {
     "name": "stdout",
     "output_type": "stream",
     "text": [
      "(1024, 1024)\n",
      "uint8\n"
     ]
    }
   ],
   "source": [
    "print(xray_image.shape)\n",
    "print(xray_image.dtype)"
   ]
  },
  {
   "cell_type": "code",
   "execution_count": null,
   "metadata": {},
   "outputs": [],
   "source": []
  }
 ],
 "metadata": {
  "kernelspec": {
   "display_name": "Python 3.9.6 ('numpy-env': venv)",
   "language": "python",
   "name": "python3"
  },
  "language_info": {
   "codemirror_mode": {
    "name": "ipython",
    "version": 3
   },
   "file_extension": ".py",
   "mimetype": "text/x-python",
   "name": "python",
   "nbconvert_exporter": "python",
   "pygments_lexer": "ipython3",
   "version": "3.9.6"
  },
  "orig_nbformat": 4,
  "vscode": {
   "interpreter": {
    "hash": "e07381a18c4617a415946caa67d46b4c42c8d56d2c115aa50b3b0426ade0f84a"
   }
  }
 },
 "nbformat": 4,
 "nbformat_minor": 2
}

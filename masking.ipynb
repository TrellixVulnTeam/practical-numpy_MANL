{
 "cells": [
  {
   "cell_type": "markdown",
   "metadata": {},
   "source": [
    "# Masked Array"
   ]
  },
  {
   "cell_type": "markdown",
   "metadata": {},
   "source": [
    "## Introduction\n",
    "\n",
    "Analyze COVID-19 sample data and handle missing values using NumPy and its masked array module along with its features."
   ]
  },
  {
   "cell_type": "markdown",
   "metadata": {},
   "source": [
    "## Objectives\n",
    "\n",
    "* understand what are masked arrays and how they can be created\n",
    "* see how to access and modify data for masked arrays\n",
    "* be able to decide when the use of masked arrays is appropriate in real applications"
   ]
  },
  {
   "cell_type": "markdown",
   "metadata": {},
   "source": [
    "## What is masking and masked array in NumPy?\n",
    "\n",
    "Masking is a way to provide an element-wise boolean indicator of a dataset where each boolean value corresponds to the status of validity for the original data in with the same index. This, basically, puts a cover on the original data with holes exposing the valid data and that way the invalid data are covered by the mask which can later be optionally replaced with some value.\n",
    "\n",
    "A masked array is the combination of a standard `numpy.ndarray` and a mask. A mask is either nomask, indicating that no value of the associated array is invalid, or an array of booleans that determines for each element of the associated array whether the value is valid or not. When an element of the mask is False, the corresponding element of the associated array is valid and is said to be unmasked. When an element of the mask is True, the corresponding element of the associated array is said to be masked (invalid).\n",
    "\n",
    "In a nutshell, a NumPy MakedArray can be said to have the following components:\n",
    "\n",
    "* Data, as a regular `numpy.ndarray` of any shape or datatype\n",
    "* A boolean mask with the same shape as the data\n",
    "* A fill_value, a value that may be used to replace the invalid entries in order to return a standard `numpy.ndarray`."
   ]
  },
  {
   "cell_type": "markdown",
   "metadata": {},
   "source": [
    "## Further usefulness of NumPy masked arrays\n",
    "\n",
    "There are a few situations where masked arrays can be more useful than just eliminating the invalid entries of an array:\n",
    "\n",
    "* When it is intended to preserve the values you masked for later processing, without copying the array\n",
    "* When it is necessary to handle many arrays, each with their own mask. If the mask is part of the array, bugs are avoided and the code is possibly more compact\n",
    "* When there are different flags for missing or invalid values, and is is intended to preserve these flags without replacing them in the original dataset, but exclude them from computations\n",
    "* If it is troublesome to avoid or eliminate missing values, but it is expected to avoid dealing with NaN (Not a Number) values in the operations"
   ]
  },
  {
   "cell_type": "code",
   "execution_count": 1,
   "metadata": {},
   "outputs": [],
   "source": [
    "import matplotlib.pyplot as plt\n",
    "import numpy as np\n",
    "from numpy import ma\n",
    "import os"
   ]
  },
  {
   "cell_type": "code",
   "execution_count": 2,
   "metadata": {},
   "outputs": [],
   "source": [
    "filepath = os.getcwd()\n",
    "filename = os.path.join(filepath, 'data/who_covid_19_sit_rep_time_series.csv')"
   ]
  },
  {
   "cell_type": "markdown",
   "metadata": {},
   "source": [
    "## Description of the sample dataset\n",
    "\n",
    "The data file contains data of different types and is organized as follows:\n",
    "\n",
    "* The first row is a header line that (mostly) describes the data in each column that follow in the rows below, and beginning in the fourth column, the header is the date of the observation.\n",
    "\n",
    "* The second through seventh row contain summary data that is of a different type than that which we are going to examine, so we will need to exclude that from the data with which we will work.\n",
    "\n",
    "* The numerical data we wish to work with begins at column 4, row 8, and extends from there to the rightmost column and the lowermost row."
   ]
  },
  {
   "cell_type": "code",
   "execution_count": 3,
   "metadata": {},
   "outputs": [],
   "source": [
    "# Note we are using skip_header and usecols to read only portions of the\n",
    "# data file into each variable.\n",
    "# Read just the dates for columns 4-18 from the first row\n",
    "dates = np.genfromtxt(\n",
    "    filename, dtype=np.unicode_, delimiter=',',\n",
    "    max_rows=1, usecols=range(4, 18),\n",
    "    encoding='utf-8-sig',\n",
    ")\n",
    "\n",
    "# Read the names of the geographic locations from the first two\n",
    "# columns, skipping the first six rows\n",
    "locations = np.genfromtxt(\n",
    "    filename, dtype=np.unicode_, delimiter=',',\n",
    "    skip_header=6, usecols=(0, 1),\n",
    "    encoding='utf-8-sig',\n",
    ")\n",
    "\n",
    "# Read the numeric data from just the first 14 days\n",
    "nbcases = np.genfromtxt(\n",
    "    filename, dtype=np.int_, delimiter=',',\n",
    "    skip_header=6, usecols=range(4, 18),\n",
    "    encoding='utf-8-sig',\n",
    ")"
   ]
  },
  {
   "cell_type": "code",
   "execution_count": 4,
   "metadata": {},
   "outputs": [
    {
     "data": {
      "text/plain": [
       "Text(0.5, 1.0, 'COVID-19 cumulative cases from Jan 21 to Feb 3 2020')"
      ]
     },
     "execution_count": 4,
     "metadata": {},
     "output_type": "execute_result"
    },
    {
     "data": {
      "image/png": "[encoded data removed]",
      "text/plain": [
       "<Figure size 432x288 with 1 Axes>"
      ]
     },
     "metadata": {
      "needs_background": "light"
     },
     "output_type": "display_data"
    }
   ],
   "source": [
    "selected_dates = [0, 3, 11, 13]\n",
    "plt.plot(dates, nbcases.T, '--')\n",
    "plt.xticks(selected_dates, dates[selected_dates])\n",
    "plt.title('COVID-19 cumulative cases from Jan 21 to Feb 3 2020')"
   ]
  },
  {
   "cell_type": "markdown",
   "metadata": {},
   "source": [
    "If we look at the locations array we extracted from the .csv file, we can see that we have two columns, where the first would contain regions and the second would contain the name of the country. However, only the first few rows contain data for the the first column (province names in China). Following that, we only have country names. So it would make sense to group all the data from China into a single row. For this, we’ll select from the nbcases array only the rows for which the second entry of the locations array corresponds to China. Next, we’ll use the `numpy.sum` function to sum all the selected rows (axis=0). Note also that row 35 corresponds to the total counts for the whole country for each date. Since we want to calculate the sum ourselves from the provinces data, we have to remove that row first from both locations and nbcases:"
   ]
  },
  {
   "cell_type": "code",
   "execution_count": 5,
   "metadata": {},
   "outputs": [],
   "source": [
    "totals_row = 35\n",
    "locations = np.delete(locations, (totals_row), axis=0)\n",
    "nbcases = np.delete(nbcases, (totals_row), axis=0)"
   ]
  },
  {
   "cell_type": "code",
   "execution_count": 6,
   "metadata": {},
   "outputs": [
    {
     "data": {
      "text/plain": [
       "array([  247,   288,   556,   817,   -22,   -22,   -15,   -10,    -9,\n",
       "          -7,    -4, 11820, 14410, 17237])"
      ]
     },
     "execution_count": 6,
     "metadata": {},
     "output_type": "execute_result"
    }
   ],
   "source": [
    "china_total = nbcases[locations[:, 1] == 'China'].sum(axis=0)\n",
    "china_total"
   ]
  },
  {
   "cell_type": "code",
   "execution_count": 7,
   "metadata": {},
   "outputs": [
    {
     "data": {
      "text/plain": [
       "array([[  258,   270,   375, ...,  7153,  9074, 11177],\n",
       "       [   14,    17,    26, ...,   520,   604,   683],\n",
       "       [   -1,     1,     1, ...,   422,   493,   566],\n",
       "       ...,\n",
       "       [   -1,    -1,    -1, ...,    -1,    -1,    -1],\n",
       "       [   -1,    -1,    -1, ...,    -1,    -1,    -1],\n",
       "       [   -1,    -1,    -1, ...,    -1,    -1,    -1]])"
      ]
     },
     "execution_count": 7,
     "metadata": {},
     "output_type": "execute_result"
    }
   ],
   "source": [
    "nbcases"
   ]
  },
  {
   "cell_type": "markdown",
   "metadata": {},
   "source": [
    "All the -1 values we are seeing come from numpy.genfromtxt attempting to read missing data from the original .csv file. Obviously, we don’t want to compute missing data as -1 - we just want to skip this value so it doesn’t interfere in our analysis. After importing the `numpy.ma` module, we’ll create a new array, this time masking the invalid values:"
   ]
  },
  {
   "cell_type": "code",
   "execution_count": 8,
   "metadata": {},
   "outputs": [
    {
     "data": {
      "text/plain": [
       "masked_array(\n",
       "  data=[[258, 270, 375, ..., 7153, 9074, 11177],\n",
       "        [14, 17, 26, ..., 520, 604, 683],\n",
       "        [--, 1, 1, ..., 422, 493, 566],\n",
       "        ...,\n",
       "        [--, --, --, ..., --, --, --],\n",
       "        [--, --, --, ..., --, --, --],\n",
       "        [--, --, --, ..., --, --, --]],\n",
       "  mask=[[False, False, False, ..., False, False, False],\n",
       "        [False, False, False, ..., False, False, False],\n",
       "        [ True, False, False, ..., False, False, False],\n",
       "        ...,\n",
       "        [ True,  True,  True, ...,  True,  True,  True],\n",
       "        [ True,  True,  True, ...,  True,  True,  True],\n",
       "        [ True,  True,  True, ...,  True,  True,  True]],\n",
       "  fill_value=-1)"
      ]
     },
     "execution_count": 8,
     "metadata": {},
     "output_type": "execute_result"
    }
   ],
   "source": [
    "nbcases_ma = ma.masked_values(nbcases, -1)\n",
    "nbcases_ma"
   ]
  },
  {
   "cell_type": "markdown",
   "metadata": {},
   "source": [
    "Let’s try and see what the data looks like excluding the first row (data from the Hubei province in China) so we can look at the missing data more closely:"
   ]
  },
  {
   "cell_type": "code",
   "execution_count": 9,
   "metadata": {},
   "outputs": [
    {
     "data": {
      "text/plain": [
       "Text(0.5, 1.0, 'COVID-19 cumulative cases from Jan 21 to Feb 3 2020')"
      ]
     },
     "execution_count": 9,
     "metadata": {},
     "output_type": "execute_result"
    },
    {
     "data": {
      "image/png": "[encoded data removed]",
      "text/plain": [
       "<Figure size 432x288 with 1 Axes>"
      ]
     },
     "metadata": {
      "needs_background": "light"
     },
     "output_type": "display_data"
    }
   ],
   "source": [
    "plt.plot(dates, nbcases_ma[1:].T, '--')\n",
    "plt.xticks(selected_dates, dates[selected_dates])\n",
    "plt.title('COVID-19 cumulative cases from Jan 21 to Feb 3 2020')"
   ]
  },
  {
   "cell_type": "code",
   "execution_count": 10,
   "metadata": {},
   "outputs": [
    {
     "data": {
      "text/plain": [
       "masked_array(data=[278, 309, 574, 835, 10, 10, 17, 22, 23, 25, 28, 11821,\n",
       "                   14411, 17238],\n",
       "             mask=[False, False, False, False, False, False, False, False,\n",
       "                   False, False, False, False, False, False],\n",
       "       fill_value=999999)"
      ]
     },
     "execution_count": 10,
     "metadata": {},
     "output_type": "execute_result"
    }
   ],
   "source": [
    "china_masked = nbcases_ma[locations[:, 1] == 'China'].sum(axis=0)\n",
    "china_masked"
   ]
  },
  {
   "cell_type": "markdown",
   "metadata": {},
   "source": [
    "Note that china_masked is a masked array, so it has a different data structure than a regular NumPy array. Now, we can access its data directly by using the `.data` attribute:"
   ]
  },
  {
   "cell_type": "code",
   "execution_count": 11,
   "metadata": {},
   "outputs": [
    {
     "data": {
      "text/plain": [
       "array([  278,   309,   574,   835,    10,    10,    17,    22,    23,\n",
       "          25,    28, 11821, 14411, 17238])"
      ]
     },
     "execution_count": 11,
     "metadata": {},
     "output_type": "execute_result"
    }
   ],
   "source": [
    "china_total = china_masked.data\n",
    "china_total"
   ]
  },
  {
   "cell_type": "markdown",
   "metadata": {},
   "source": [
    "That is better: no more negative values. However, we can still see that for some days, the cumulative number of cases seems to go down (from 835 to 10, for example), which does not agree with the definition of “cumulative data”. If we look more closely at the data, we can see that in the period where there was missing data in mainland China, there was valid data for `Hong Kong, Taiwan, Macau and “Unspecified”` regions of China. Maybe we can remove those from the total sum of cases in China, to get a better understanding of the data."
   ]
  },
  {
   "cell_type": "code",
   "execution_count": 12,
   "metadata": {},
   "outputs": [],
   "source": [
    "china_mask = (\n",
    "    (locations[:, 1] == 'China')\n",
    "    & (locations[:, 0] != 'Hong Kong')\n",
    "    & (locations[:, 0] != 'Taiwan')\n",
    "    & (locations[:, 0] != 'Macau')\n",
    "    & (locations[:, 0] != 'Unspecified*')\n",
    ")"
   ]
  },
  {
   "cell_type": "code",
   "execution_count": 13,
   "metadata": {},
   "outputs": [
    {
     "data": {
      "text/plain": [
       "(array([ 0,  1,  2,  3,  4,  5,  6,  7,  8,  9, 10, 11, 12, 13, 14, 15, 16,\n",
       "        17, 18, 19, 20, 21, 22, 23, 25, 26, 27, 28, 29, 31, 33],\n",
       "       dtype=int64),)"
      ]
     },
     "execution_count": 13,
     "metadata": {},
     "output_type": "execute_result"
    }
   ],
   "source": [
    "china_mask.nonzero()"
   ]
  },
  {
   "cell_type": "code",
   "execution_count": 14,
   "metadata": {},
   "outputs": [
    {
     "data": {
      "text/plain": [
       "masked_array(data=[278, 308, 440, 446, --, --, --, --, --, --, --, 11791,\n",
       "                   14380, 17205],\n",
       "             mask=[False, False, False, False,  True,  True,  True,  True,\n",
       "                    True,  True,  True, False, False, False],\n",
       "       fill_value=999999)"
      ]
     },
     "execution_count": 14,
     "metadata": {},
     "output_type": "execute_result"
    }
   ],
   "source": [
    "china_total = nbcases_ma[china_mask].sum(axis=0)\n",
    "china_total"
   ]
  },
  {
   "cell_type": "code",
   "execution_count": 15,
   "metadata": {},
   "outputs": [
    {
     "data": {
      "text/plain": [
       "Text(0.5, 1.0, 'COVID-19 cumulative cases from Jan 21 to Feb 3 2020 - Mainland China')"
      ]
     },
     "execution_count": 15,
     "metadata": {},
     "output_type": "execute_result"
    },
    {
     "data": {
      "image/png": "[encoded data removed]",
      "text/plain": [
       "<Figure size 432x288 with 1 Axes>"
      ]
     },
     "metadata": {
      "needs_background": "light"
     },
     "output_type": "display_data"
    }
   ],
   "source": [
    "plt.plot(dates, china_total.T, '--')\n",
    "plt.xticks(selected_dates, dates[selected_dates])\n",
    "plt.title('COVID-19 cumulative cases from Jan 21 to Feb 3 2020 - Mainland China')"
   ]
  },
  {
   "cell_type": "markdown",
   "metadata": {},
   "source": [
    "One possibility we can think of is to interpolate the missing data to estimate the number of cases in late January. Observe that we can select the masked elements using the `.mask` attribute:"
   ]
  },
  {
   "cell_type": "code",
   "execution_count": 16,
   "metadata": {},
   "outputs": [
    {
     "data": {
      "text/plain": [
       "array([False, False, False, False,  True,  True,  True,  True,  True,\n",
       "        True,  True, False, False, False])"
      ]
     },
     "execution_count": 16,
     "metadata": {},
     "output_type": "execute_result"
    }
   ],
   "source": [
    "china_total.mask"
   ]
  },
  {
   "cell_type": "code",
   "execution_count": 17,
   "metadata": {},
   "outputs": [
    {
     "data": {
      "text/plain": [
       "masked_array(data=[--, --, --, --, --, --, --],\n",
       "             mask=[ True,  True,  True,  True,  True,  True,  True],\n",
       "       fill_value=999999,\n",
       "            dtype=int32)"
      ]
     },
     "execution_count": 17,
     "metadata": {},
     "output_type": "execute_result"
    }
   ],
   "source": [
    "invalid = china_total[china_total.mask]\n",
    "invalid"
   ]
  },
  {
   "cell_type": "markdown",
   "metadata": {},
   "source": [
    "We can also access the valid entries by using the logical negation for this mask:"
   ]
  },
  {
   "cell_type": "code",
   "execution_count": 18,
   "metadata": {},
   "outputs": [
    {
     "data": {
      "text/plain": [
       "masked_array(data=[278, 308, 440, 446, 11791, 14380, 17205],\n",
       "             mask=[False, False, False, False, False, False, False],\n",
       "       fill_value=999999)"
      ]
     },
     "execution_count": 18,
     "metadata": {},
     "output_type": "execute_result"
    }
   ],
   "source": [
    "valid = china_total[~china_total.mask]\n",
    "valid"
   ]
  },
  {
   "cell_type": "code",
   "execution_count": 19,
   "metadata": {},
   "outputs": [
    {
     "data": {
      "text/plain": [
       "array(['1/21/20', '1/22/20', '1/23/20', '1/24/20', '2/1/20', '2/2/20',\n",
       "       '2/3/20'], dtype='<U7')"
      ]
     },
     "execution_count": 19,
     "metadata": {},
     "output_type": "execute_result"
    }
   ],
   "source": [
    "dates[~china_total.mask]"
   ]
  },
  {
   "cell_type": "markdown",
   "metadata": {},
   "source": [
    "We can use the `numpy.polyfit` and `numpy.polyval` functions to create a cubic polynomial that fits the data as best as possible:"
   ]
  },
  {
   "cell_type": "code",
   "execution_count": 20,
   "metadata": {},
   "outputs": [],
   "source": [
    "t = np.arange(len(china_total))\n",
    "params = np.polyfit(t[~china_total.mask], valid, 3)\n",
    "cubic_fit = np.polyval(params, t)"
   ]
  },
  {
   "cell_type": "code",
   "execution_count": 21,
   "metadata": {},
   "outputs": [
    {
     "data": {
      "text/plain": [
       "[<matplotlib.lines.Line2D at 0x1f0c46ba880>]"
      ]
     },
     "execution_count": 21,
     "metadata": {},
     "output_type": "execute_result"
    },
    {
     "data": {
      "image/png": "[encoded data removed]",
      "text/plain": [
       "<Figure size 432x288 with 1 Axes>"
      ]
     },
     "metadata": {
      "needs_background": "light"
     },
     "output_type": "display_data"
    }
   ],
   "source": [
    "plt.plot(t, china_total)\n",
    "plt.plot(t, cubic_fit, '--')"
   ]
  },
  {
   "cell_type": "markdown",
   "metadata": {},
   "source": [
    "This plot is not so readable since the lines seem to be over each other, so let’s summarize in a more elaborate plot. We’ll plot the real data when available, and show the cubic fit for unavailable data, using this fit to compute an estimate to the observed number of cases on January 28th 2020, 7 days after the beginning of the records:"
   ]
  },
  {
   "cell_type": "code",
   "execution_count": 22,
   "metadata": {},
   "outputs": [
    {
     "data": {
      "text/plain": [
       "Text(0.5, 1.0, 'COVID-19 cumulative cases from Jan 21 to Feb 3 2020 - Mainland China\\nCubic estimate for 7 days after start')"
      ]
     },
     "execution_count": 22,
     "metadata": {},
     "output_type": "execute_result"
    },
    {
     "data": {
      "image/png": "[encoded data removed]",
      "text/plain": [
       "<Figure size 432x288 with 1 Axes>"
      ]
     },
     "metadata": {
      "needs_background": "light"
     },
     "output_type": "display_data"
    }
   ],
   "source": [
    "plt.plot(t, china_total)\n",
    "plt.plot(t[china_total.mask], cubic_fit[china_total.mask], '--', color='orange')\n",
    "plt.plot(7, np.polyval(params, 7), 'r*')\n",
    "plt.xticks([0, 7, 13], dates[[0, 7, 13]])\n",
    "plt.yticks([0, np.polyval(params, 7), 10000, 17500])\n",
    "plt.legend(['Mainland China', 'Cubic estimate', '7 days after start'])\n",
    "plt.title(\n",
    "    'COVID-19 cumulative cases from Jan 21 to Feb 3 2020 - Mainland China\\n'\n",
    "    'Cubic estimate for 7 days after start'\n",
    ")"
   ]
  },
  {
   "cell_type": "code",
   "execution_count": null,
   "metadata": {},
   "outputs": [],
   "source": []
  }
 ],
 "metadata": {
  "kernelspec": {
   "display_name": "Python 3.9.6 ('numpy-env': venv)",
   "language": "python",
   "name": "python3"
  },
  "language_info": {
   "codemirror_mode": {
    "name": "ipython",
    "version": 3
   },
   "file_extension": ".py",
   "mimetype": "text/x-python",
   "name": "python",
   "nbconvert_exporter": "python",
   "pygments_lexer": "ipython3",
   "version": "3.9.6"
  },
  "orig_nbformat": 4,
  "vscode": {
   "interpreter": {
    "hash": "e07381a18c4617a415946caa67d46b4c42c8d56d2c115aa50b3b0426ade0f84a"
   }
  }
 },
 "nbformat": 4,
 "nbformat_minor": 2
}

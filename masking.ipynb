{
 "cells": [
  {
   "cell_type": "markdown",
   "metadata": {},
   "source": [
    "# Masked Array"
   ]
  },
  {
   "cell_type": "markdown",
   "metadata": {},
   "source": [
    "## Introduction\n",
    "\n",
    "Analyze COVID-19 sample data and handle missing values using NumPy and its masked array module along with its features."
   ]
  },
  {
   "cell_type": "markdown",
   "metadata": {},
   "source": [
    "## Objectives\n",
    "\n",
    "* understand what are masked arrays and how they can be created\n",
    "* see how to access and modify data for masked arrays\n",
    "* be able to decide when the use of masked arrays is appropriate in real applications"
   ]
  },
  {
   "cell_type": "markdown",
   "metadata": {},
   "source": [
    "## What is masking and masked array in NumPy?\n",
    "\n",
    "Masking is a way to provide an element-wise boolean indicator of a dataset where each boolean value corresponds to the status of validity for the original data in with the same index. This, basically, puts a cover on the original data with holes exposing the valid data and that way the invalid data are covered by the mask which can later be optionally replaced with some value.\n",
    "\n",
    "A masked array is the combination of a standard `numpy.ndarray` and a mask. A mask is either nomask, indicating that no value of the associated array is invalid, or an array of booleans that determines for each element of the associated array whether the value is valid or not. When an element of the mask is False, the corresponding element of the associated array is valid and is said to be unmasked. When an element of the mask is True, the corresponding element of the associated array is said to be masked (invalid).\n",
    "\n",
    "In a nutshell, a NumPy MakedArray can be said to have the following components:\n",
    "\n",
    "* Data, as a regular `numpy.ndarray` of any shape or datatype\n",
    "* A boolean mask with the same shape as the data\n",
    "* A fill_value, a value that may be used to replace the invalid entries in order to return a standard `numpy.ndarray`."
   ]
  },
  {
   "cell_type": "markdown",
   "metadata": {},
   "source": [
    "## Further usefulness of NumPy masked arrays\n",
    "\n",
    "There are a few situations where masked arrays can be more useful than just eliminating the invalid entries of an array:\n",
    "\n",
    "* When it is intended to preserve the values you masked for later processing, without copying the array\n",
    "* When it is necessary to handle many arrays, each with their own mask. If the mask is part of the array, bugs are avoided and the code is possibly more compact\n",
    "* When there are different flags for missing or invalid values, and is is intended to preserve these flags without replacing them in the original dataset, but exclude them from computations\n",
    "* If it is troublesome to avoid or eliminate missing values, but it is expected to avoid dealing with NaN (Not a Number) values in the operations"
   ]
  },
  {
   "cell_type": "code",
   "execution_count": 1,
   "metadata": {},
   "outputs": [],
   "source": [
    "import numpy as np\n",
    "import os"
   ]
  },
  {
   "cell_type": "code",
   "execution_count": 4,
   "metadata": {},
   "outputs": [],
   "source": [
    "filepath = os.getcwd()\n",
    "filename = os.path.join(filepath, 'data/who_covid_19_sit_rep_time_series.csv')"
   ]
  },
  {
   "cell_type": "markdown",
   "metadata": {},
   "source": [
    "## Description of the sample dataset\n",
    "\n",
    "The data file contains data of different types and is organized as follows:\n",
    "\n",
    "* The first row is a header line that (mostly) describes the data in each column that follow in the rows below, and beginning in the fourth column, the header is the date of the observation.\n",
    "\n",
    "* The second through seventh row contain summary data that is of a different type than that which we are going to examine, so we will need to exclude that from the data with which we will work.\n",
    "\n",
    "* The numerical data we wish to work with begins at column 4, row 8, and extends from there to the rightmost column and the lowermost row."
   ]
  },
  {
   "cell_type": "code",
   "execution_count": 5,
   "metadata": {},
   "outputs": [],
   "source": [
    "dates = np.genfromtxt(\n",
    "    filename, dtype=np.unicode_, delimiter=',',\n",
    "    max_rows=1, usecols=range(4, 18),\n",
    "    encoding='utf-8-sig',\n",
    ")\n",
    "\n",
    "locations = np.genfromtxt(\n",
    "    filename, dtype=np.unicode_, delimiter=',',\n",
    "    skip_header=6, usecols=(0, 1),\n",
    "    encoding='utf-8-sig',\n",
    ")\n",
    "\n",
    "nbcases = np.genfromtxt(\n",
    "    filename, dtype=np.int_, delimiter=',',\n",
    "    skip_header=6, usecols=(4, 18),\n",
    "    encoding='utf-8-sig',\n",
    ")"
   ]
  },
  {
   "cell_type": "code",
   "execution_count": null,
   "metadata": {},
   "outputs": [],
   "source": []
  }
 ],
 "metadata": {
  "kernelspec": {
   "display_name": "Python 3.9.6 ('numpy-env': venv)",
   "language": "python",
   "name": "python3"
  },
  "language_info": {
   "codemirror_mode": {
    "name": "ipython",
    "version": 3
   },
   "file_extension": ".py",
   "mimetype": "text/x-python",
   "name": "python",
   "nbconvert_exporter": "python",
   "pygments_lexer": "ipython3",
   "version": "3.9.6"
  },
  "orig_nbformat": 4,
  "vscode": {
   "interpreter": {
    "hash": "e07381a18c4617a415946caa67d46b4c42c8d56d2c115aa50b3b0426ade0f84a"
   }
  }
 },
 "nbformat": 4,
 "nbformat_minor": 2
}

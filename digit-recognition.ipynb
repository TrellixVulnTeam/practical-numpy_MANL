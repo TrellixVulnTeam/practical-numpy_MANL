{
 "cells": [
  {
   "cell_type": "markdown",
   "metadata": {},
   "source": [
    "# Digit Recognition with MNIST dataset"
   ]
  },
  {
   "cell_type": "markdown",
   "metadata": {},
   "source": [
    "## Introduction\n",
    "\n",
    "This notebook demonstrates how to build a simple feedforward neural network (with one hidden layer) and train it from scratch with NumPy to recognize handwritten digit images. Based on the image inputs and their labels (supervised learning), the neural network will be trained to learn their features using forward propagation and backpropagation (reverse-mode differentiation). The final output of the network is a vector of 10 scores — one for each handwritten digit image. Furthermore, the accuracy regarding how good your model is at classifying the images on the test set will also be evaluated."
   ]
  },
  {
   "cell_type": "markdown",
   "metadata": {},
   "source": [
    "## Requirements\n",
    "\n",
    "Some basic knowledge of Python, NumPy array manipulation, and linear algebra will be necessary to follow along this notebook. In addition, familiarity with main concepts of deep learning is also expected.\n",
    "\n",
    "In addition to NumPy, the following Python standard modules will also be utilized for data loading and processing:\n",
    "\n",
    "* `urllib` for URL handling\n",
    "* `requests` for URL opening\n",
    "* `gzip` for gzip file decompression\n",
    "* `pickle` to work with the pickle file format\n",
    "* `Matplotlib` for data visualization"
   ]
  },
  {
   "cell_type": "markdown",
   "metadata": {},
   "source": [
    "#### 1. Load the MNIST dataset\n",
    "\n",
    "In this section, the zipped MNIST dataset files will be downloaded which are originally stored in Yann LeCun’s website. Then, they will be transformed into 4 files of NumPy array type using built-in Python modules. Finally, the arrays will be splitted into training and test sets."
   ]
  },
  {
   "cell_type": "code",
   "execution_count": 22,
   "metadata": {},
   "outputs": [],
   "source": [
    "import os\n",
    "import gzip\n",
    "import requests\n",
    "import numpy as np\n",
    "import matplotlib.pyplot as plt"
   ]
  },
  {
   "cell_type": "markdown",
   "metadata": {},
   "source": [
    "1.  Define a variable to store the training/test image/label names of the MNIST dataset in a list:"
   ]
  },
  {
   "cell_type": "code",
   "execution_count": 1,
   "metadata": {},
   "outputs": [],
   "source": [
    "data_sources = {\n",
    "    'training_images': 'train-images-idx3-ubyte.gz',    # 60,000 training images.\n",
    "    'test_images': 't10k-images-idx3-ubyte.gz',         # 10,000 test images.\n",
    "    'training_labels': 'train-labels-idx1-ubyte.gz',    # 60,000 training labels.\n",
    "    'test_labels': 't10k-labels-idx1-ubyte.gz',         # 10,000 test labels.\n",
    "}"
   ]
  },
  {
   "cell_type": "markdown",
   "metadata": {},
   "source": [
    "2. Load the data. First check if the data is stored locally; if not, then download it."
   ]
  },
  {
   "cell_type": "code",
   "execution_count": 16,
   "metadata": {},
   "outputs": [],
   "source": [
    "headers = {\n",
    "    'User-Agent': 'Mozilla/5.0 (X11; Linux x86_64; rv:10.0) Gecko/20100101 Firefox/10.0'\n",
    "}\n",
    "\n",
    "request_opts = {\n",
    "    'headers': headers,\n",
    "    'params': {'raw': 'true'},\n",
    "}\n",
    "\n",
    "data_dir = 'data'\n",
    "os.makedirs(data_dir, exist_ok=True)"
   ]
  },
  {
   "cell_type": "code",
   "execution_count": 18,
   "metadata": {},
   "outputs": [
    {
     "name": "stdout",
     "output_type": "stream",
     "text": [
      "Downloading file: train-images-idx3-ubyte.gz\n",
      "Downloading file: t10k-images-idx3-ubyte.gz\n",
      "Downloading file: train-labels-idx1-ubyte.gz\n",
      "Downloading file: t10k-labels-idx1-ubyte.gz\n"
     ]
    }
   ],
   "source": [
    "base_url = 'https://github.com/rossbar/numpy-tutorial-data-mirror/blob/main/'\n",
    "\n",
    "for fname in data_sources.values():\n",
    "    fpath = os.path.join(data_dir, fname)\n",
    "    if not os.path.exists(fpath):\n",
    "        print('Downloading file:', fname)\n",
    "        response = requests.get(base_url + fname, stream=True, **request_opts)\n",
    "        response.raise_for_status() # Ensures successful download\n",
    "        \n",
    "        with open(fpath, 'wb') as writer:\n",
    "            for chunk in response.iter_content(chunk_size=128):\n",
    "                writer.write(chunk)"
   ]
  },
  {
   "cell_type": "markdown",
   "metadata": {},
   "source": [
    "3. Decompress the 4 files and create 4 ndarrays, saving them into a dictionary. Each original image is of size 28x28 and neural networks normally expect a 1D vector input; therefore, you also need to reshape the images by multiplying 28 by 28 (784)."
   ]
  },
  {
   "cell_type": "code",
   "execution_count": 19,
   "metadata": {},
   "outputs": [],
   "source": [
    "mnist_dataset = {}\n",
    "\n",
    "# images\n",
    "for key in ('training_images', 'test_images'):\n",
    "    with gzip.open(os.path.join(data_dir, data_sources[key]), 'rb') as reader:\n",
    "        mnist_dataset[key] = np.frombuffer(reader.read(), np.uint8, offset=16).reshape(-1, 28 * 28)\n",
    "\n",
    "# labels\n",
    "for key in ('training_labels', 'test_labels'):\n",
    "    with gzip.open(os.path.join(data_dir, data_sources[key]), 'rb') as reader:\n",
    "        mnist_dataset[key] = np.frombuffer(reader.read(), np.uint8, offset=8)"
   ]
  },
  {
   "cell_type": "markdown",
   "metadata": {},
   "source": [
    "4. Split the data into training and test sets using the standard notation of x for data and y for labels, calling the training and test set images x_train and x_test, and the labels y_train and y_test:"
   ]
  },
  {
   "cell_type": "code",
   "execution_count": 20,
   "metadata": {},
   "outputs": [],
   "source": [
    "x_train, y_train, x_test, y_test = (\n",
    "    mnist_dataset['training_images'],\n",
    "    mnist_dataset['training_labels'],\n",
    "    mnist_dataset['test_images'],\n",
    "    mnist_dataset['test_labels'],\n",
    ")"
   ]
  },
  {
   "cell_type": "markdown",
   "metadata": {},
   "source": [
    "5. Verify that the shape of the image arrays is (60000, 784) and (10000, 784) for training and test sets, respectively, and the labels — (60000,) and (10000,):"
   ]
  },
  {
   "cell_type": "code",
   "execution_count": 21,
   "metadata": {},
   "outputs": [
    {
     "name": "stdout",
     "output_type": "stream",
     "text": [
      "The shape of training images: (60000, 784) and training labels: (60000,)\n",
      "The shape of test images: (10000, 784) and test labels: (10000,)\n"
     ]
    }
   ],
   "source": [
    "print(f'The shape of training images: {x_train.shape} and training labels: {y_train.shape}')\n",
    "print(f'The shape of test images: {x_test.shape} and test labels: {y_test.shape}')"
   ]
  },
  {
   "cell_type": "markdown",
   "metadata": {},
   "source": [
    "6. Inspect some images using `matplotlib`"
   ]
  },
  {
   "cell_type": "code",
   "execution_count": 33,
   "metadata": {},
   "outputs": [
    {
     "name": "stdout",
     "output_type": "stream",
     "text": [
      "label of 60000th image 8\n"
     ]
    },
    {
     "data": {
      "image/png": "[encoded data removed]",
      "text/plain": [
       "<Figure size 432x288 with 1 Axes>"
      ]
     },
     "metadata": {
      "needs_background": "light"
     },
     "output_type": "display_data"
    }
   ],
   "source": [
    "# Take 60000th image (indexed at 59999) from the training set, reshape from (784,)\n",
    "# to (28, 28) to have a valid shape for displaying purposes.\n",
    "mnist_image = x_train[59999, :].reshape(28, 28)\n",
    "\n",
    "# Display the label of the 60,000th image (indexed at 59,999) from the training set.\n",
    "print('label of 60000th image', y_train[59999])\n",
    "\n",
    "# set the color mapping to grayscale to have a black background\n",
    "plt.imshow(mnist_image, cmap='gray')\n",
    "plt.show()"
   ]
  },
  {
   "cell_type": "code",
   "execution_count": 34,
   "metadata": {},
   "outputs": [
    {
     "data": {
      "image/png": "[encoded data removed]",
      "text/plain": [
       "<Figure size 432x288 with 5 Axes>"
      ]
     },
     "metadata": {
      "needs_background": "light"
     },
     "output_type": "display_data"
    }
   ],
   "source": [
    "# Display 5 random images from the training set\n",
    "num_examples = 5\n",
    "seed = 147197952744 # used for reproducing the same indexes\n",
    "rng = np.random.default_rng(seed)\n",
    "\n",
    "fig, axes = plt.subplots(1, num_examples)\n",
    "for sample, ax in zip(rng.choice(x_train, size=num_examples, replace=False), axes):\n",
    "    ax.imshow(sample.reshape(28, 28), cmap='gray')"
   ]
  },
  {
   "cell_type": "code",
   "execution_count": null,
   "metadata": {},
   "outputs": [],
   "source": []
  }
 ],
 "metadata": {
  "kernelspec": {
   "display_name": "Python 3.9.6 ('numpy-env': venv)",
   "language": "python",
   "name": "python3"
  },
  "language_info": {
   "codemirror_mode": {
    "name": "ipython",
    "version": 3
   },
   "file_extension": ".py",
   "mimetype": "text/x-python",
   "name": "python",
   "nbconvert_exporter": "python",
   "pygments_lexer": "ipython3",
   "version": "3.9.6"
  },
  "orig_nbformat": 4,
  "vscode": {
   "interpreter": {
    "hash": "e07381a18c4617a415946caa67d46b4c42c8d56d2c115aa50b3b0426ade0f84a"
   }
  }
 },
 "nbformat": 4,
 "nbformat_minor": 2
}

{
 "cells": [
  {
   "cell_type": "markdown",
   "metadata": {},
   "source": [
    "# Digit Recognition with MNIST dataset"
   ]
  },
  {
   "cell_type": "markdown",
   "metadata": {},
   "source": [
    "## Introduction\n",
    "\n",
    "This notebook demonstrates how to build a simple feedforward neural network (with one hidden layer) and train it from scratch with NumPy to recognize handwritten digit images. Based on the image inputs and their labels (supervised learning), the neural network will be trained to learn their features using forward propagation and backpropagation (reverse-mode differentiation). The final output of the network is a vector of 10 scores — one for each handwritten digit image. Furthermore, the accuracy regarding how good your model is at classifying the images on the test set will also be evaluated."
   ]
  },
  {
   "cell_type": "markdown",
   "metadata": {},
   "source": [
    "## Requirements\n",
    "\n",
    "Some basic knowledge of Python, NumPy array manipulation, and linear algebra will be necessary to follow along this notebook. In addition, familiarity with main concepts of deep learning is also expected.\n",
    "\n",
    "In addition to NumPy, the following Python standard modules will also be utilized for data loading and processing:\n",
    "\n",
    "* `urllib` for URL handling\n",
    "* `requests` for URL opening\n",
    "* `gzip` for gzip file decompression\n",
    "* `pickle` to work with the pickle file format\n",
    "* `Matplotlib` for data visualization"
   ]
  },
  {
   "cell_type": "markdown",
   "metadata": {},
   "source": [
    "#### 1. Load the MNIST dataset\n",
    "\n",
    "In this section, the zipped MNIST dataset files will be downloaded which are originally stored in Yann LeCun’s website. Then, they will be transformed into 4 files of NumPy array type using built-in Python modules. Finally, the arrays will be splitted into training and test sets."
   ]
  },
  {
   "cell_type": "code",
   "execution_count": 1,
   "metadata": {},
   "outputs": [],
   "source": [
    "import os\n",
    "import gzip\n",
    "import requests\n",
    "import numpy as np\n",
    "import matplotlib.pyplot as plt"
   ]
  },
  {
   "cell_type": "markdown",
   "metadata": {},
   "source": [
    "1.  Define a variable to store the training/test image/label names of the MNIST dataset in a list:"
   ]
  },
  {
   "cell_type": "code",
   "execution_count": 2,
   "metadata": {},
   "outputs": [],
   "source": [
    "data_sources = {\n",
    "    'training_images': 'train-images-idx3-ubyte.gz',    # 60,000 training images.\n",
    "    'test_images': 't10k-images-idx3-ubyte.gz',         # 10,000 test images.\n",
    "    'training_labels': 'train-labels-idx1-ubyte.gz',    # 60,000 training labels.\n",
    "    'test_labels': 't10k-labels-idx1-ubyte.gz',         # 10,000 test labels.\n",
    "}"
   ]
  },
  {
   "cell_type": "markdown",
   "metadata": {},
   "source": [
    "2. Load the data. First check if the data is stored locally; if not, then download it."
   ]
  },
  {
   "cell_type": "code",
   "execution_count": 3,
   "metadata": {},
   "outputs": [],
   "source": [
    "headers = {\n",
    "    'User-Agent': 'Mozilla/5.0 (X11; Linux x86_64; rv:10.0) Gecko/20100101 Firefox/10.0'\n",
    "}\n",
    "\n",
    "request_opts = {\n",
    "    'headers': headers,\n",
    "    'params': {'raw': 'true'},\n",
    "}\n",
    "\n",
    "data_dir = 'data'\n",
    "os.makedirs(data_dir, exist_ok=True)"
   ]
  },
  {
   "cell_type": "code",
   "execution_count": 4,
   "metadata": {},
   "outputs": [
    {
     "name": "stdout",
     "output_type": "stream",
     "text": [
      "Downloading file: train-images-idx3-ubyte.gz\n",
      "Downloading file: t10k-images-idx3-ubyte.gz\n",
      "Downloading file: train-labels-idx1-ubyte.gz\n",
      "Downloading file: t10k-labels-idx1-ubyte.gz\n"
     ]
    }
   ],
   "source": [
    "base_url = 'https://github.com/rossbar/numpy-tutorial-data-mirror/blob/main/'\n",
    "\n",
    "for fname in data_sources.values():\n",
    "    fpath = os.path.join(data_dir, fname)\n",
    "    if not os.path.exists(fpath):\n",
    "        print('Downloading file:', fname)\n",
    "        response = requests.get(base_url + fname, stream=True, **request_opts)\n",
    "        response.raise_for_status() # Ensures successful download\n",
    "        \n",
    "        with open(fpath, 'wb') as writer:\n",
    "            for chunk in response.iter_content(chunk_size=128):\n",
    "                writer.write(chunk)"
   ]
  },
  {
   "cell_type": "markdown",
   "metadata": {},
   "source": [
    "3. Decompress the 4 files and create 4 ndarrays, saving them into a dictionary. Each original image is of size 28x28 and neural networks normally expect a 1D vector input; therefore, you also need to reshape the images by multiplying 28 by 28 (784)."
   ]
  },
  {
   "cell_type": "code",
   "execution_count": 5,
   "metadata": {},
   "outputs": [],
   "source": [
    "mnist_dataset = {}\n",
    "\n",
    "# images\n",
    "for key in ('training_images', 'test_images'):\n",
    "    with gzip.open(os.path.join(data_dir, data_sources[key]), 'rb') as reader:\n",
    "        mnist_dataset[key] = np.frombuffer(reader.read(), np.uint8, offset=16).reshape(-1, 28 * 28)\n",
    "\n",
    "# labels\n",
    "for key in ('training_labels', 'test_labels'):\n",
    "    with gzip.open(os.path.join(data_dir, data_sources[key]), 'rb') as reader:\n",
    "        mnist_dataset[key] = np.frombuffer(reader.read(), np.uint8, offset=8)"
   ]
  },
  {
   "cell_type": "markdown",
   "metadata": {},
   "source": [
    "4. Split the data into training and test sets using the standard notation of x for data and y for labels, calling the training and test set images x_train and x_test, and the labels y_train and y_test:"
   ]
  },
  {
   "cell_type": "code",
   "execution_count": 6,
   "metadata": {},
   "outputs": [],
   "source": [
    "x_train, y_train, x_test, y_test = (\n",
    "    mnist_dataset['training_images'],\n",
    "    mnist_dataset['training_labels'],\n",
    "    mnist_dataset['test_images'],\n",
    "    mnist_dataset['test_labels'],\n",
    ")"
   ]
  },
  {
   "cell_type": "markdown",
   "metadata": {},
   "source": [
    "5. Verify that the shape of the image arrays is (60000, 784) and (10000, 784) for training and test sets, respectively, and the labels — (60000,) and (10000,):"
   ]
  },
  {
   "cell_type": "code",
   "execution_count": 7,
   "metadata": {},
   "outputs": [
    {
     "name": "stdout",
     "output_type": "stream",
     "text": [
      "The shape of training images: (60000, 784) and training labels: (60000,)\n",
      "The shape of test images: (10000, 784) and test labels: (10000,)\n"
     ]
    }
   ],
   "source": [
    "print(f'The shape of training images: {x_train.shape} and training labels: {y_train.shape}')\n",
    "print(f'The shape of test images: {x_test.shape} and test labels: {y_test.shape}')"
   ]
  },
  {
   "cell_type": "markdown",
   "metadata": {},
   "source": [
    "6. Inspect some images using `matplotlib`"
   ]
  },
  {
   "cell_type": "code",
   "execution_count": 8,
   "metadata": {},
   "outputs": [
    {
     "name": "stdout",
     "output_type": "stream",
     "text": [
      "label of 60000th image 8\n"
     ]
    },
    {
     "data": {
      "image/png": "[encoded data removed]",
      "text/plain": [
       "<Figure size 432x288 with 1 Axes>"
      ]
     },
     "metadata": {
      "needs_background": "light"
     },
     "output_type": "display_data"
    }
   ],
   "source": [
    "# Take 60000th image (indexed at 59999) from the training set, reshape from (784,)\n",
    "# to (28, 28) to have a valid shape for displaying purposes.\n",
    "mnist_image = x_train[59999, :].reshape(28, 28)\n",
    "\n",
    "# Display the label of the 60,000th image (indexed at 59,999) from the training set.\n",
    "print('label of 60000th image', y_train[59999])\n",
    "\n",
    "# set the color mapping to grayscale to have a black background\n",
    "plt.imshow(mnist_image, cmap='gray')\n",
    "plt.show()"
   ]
  },
  {
   "cell_type": "code",
   "execution_count": 9,
   "metadata": {},
   "outputs": [
    {
     "data": {
      "image/png": "[encoded data removed]",
      "text/plain": [
       "<Figure size 432x288 with 5 Axes>"
      ]
     },
     "metadata": {
      "needs_background": "light"
     },
     "output_type": "display_data"
    }
   ],
   "source": [
    "# Display 5 random images from the training set\n",
    "num_examples = 5\n",
    "seed = 147197952744 # used for reproducing the same indexes\n",
    "rng = np.random.default_rng(seed)\n",
    "\n",
    "fig, axes = plt.subplots(1, num_examples)\n",
    "for sample, ax in zip(rng.choice(x_train, size=num_examples, replace=False), axes):\n",
    "    ax.imshow(sample.reshape(28, 28), cmap='gray')"
   ]
  },
  {
   "cell_type": "markdown",
   "metadata": {},
   "source": [
    "#### 2. Preprocess data\n",
    "\n",
    "Neural networks can work with inputs that are in a form of tensors (multidimensional arrays) of floating-point type. When preprocessing the data, the following processes should be considered: `vectorization` and `conversion to a floating-point format`. Since the MNIST data is already vectorized and the arrays are of dtype `uint8`, the next task is to convert them to a floating-point format, such as `float64` (double-precision):\n",
    "\n",
    "* `Normalization` on the image data: a `feature scaling` procedure that can speed up the neural network training process by applying `standardization` on the distribution of your input data.\n",
    "* `One-hot/categorical encoding` of the image labels."
   ]
  },
  {
   "cell_type": "markdown",
   "metadata": {},
   "source": [
    "##### Convert the image data to the floating-point format\n",
    "\n",
    "The images data contain 8-bit integers encoded in the [0, 255] interval with color values between 0 and 255. They will be required to be normalized into floating-point arrays in the [0, 1] interval by dividing them by 255."
   ]
  },
  {
   "cell_type": "markdown",
   "metadata": {},
   "source": [
    "1. Check that the vectorized image data has type `uint8`:"
   ]
  },
  {
   "cell_type": "code",
   "execution_count": 10,
   "metadata": {},
   "outputs": [
    {
     "name": "stdout",
     "output_type": "stream",
     "text": [
      "The data type of training images: uint8\n",
      "The data type of test images: uint8\n"
     ]
    }
   ],
   "source": [
    "print(f'The data type of training images: {x_train.dtype}')\n",
    "print(f'The data type of test images: {x_test.dtype}')"
   ]
  },
  {
   "cell_type": "markdown",
   "metadata": {},
   "source": [
    "2. Normalize the arrays by dividing them by 255 (and thus promoting the data type from `uint8` to `float64`) and then assign the train and test image data variables — `x_train` and `x_test` — to `training_images` and `train_labels`, respectively. To reduce the model training and evaluation time in this example, only a subset of the training and test images will be used. Both `training_images` and `test_images` will contain only 5000 samples each out of the complete datasets of 60000 and 10000 images, respectively. These values can be controlled by changing the `training_sample` and `test_sample` below, up to their maximum values of 60000 and 10000."
   ]
  },
  {
   "cell_type": "code",
   "execution_count": 11,
   "metadata": {},
   "outputs": [],
   "source": [
    "training_sample, test_sample = 5000, 5000\n",
    "training_images = x_train[0:training_sample] / 255\n",
    "test_images = x_test[0:test_sample] / 255"
   ]
  },
  {
   "cell_type": "markdown",
   "metadata": {},
   "source": [
    "3. Verify that the image data has changed to the floating-point format:"
   ]
  },
  {
   "cell_type": "code",
   "execution_count": 12,
   "metadata": {},
   "outputs": [
    {
     "name": "stdout",
     "output_type": "stream",
     "text": [
      "The data type of the training images: float64\n",
      "The data type of the test images: float64\n"
     ]
    }
   ],
   "source": [
    "print(f'The data type of the training images: {training_images.dtype}')\n",
    "print(f'The data type of the test images: {test_images.dtype}')"
   ]
  },
  {
   "cell_type": "markdown",
   "metadata": {},
   "source": [
    "##### Convert the labels to floating point through categorical/one-hot encoding"
   ]
  },
  {
   "cell_type": "markdown",
   "metadata": {},
   "source": [
    "One-hot encoding will be used to embed each digit label as an all-zero vector with `np.zeros()` and 1 will be placed for a label index. As a result, the label data will be arrays with 1.0 (or 1.) in the position of each image label. Since there are 10 labels (from 0 to 9) in total, the arrays will look similar to this:\n",
    "\n",
    "`array([0., 0., 0., 0., 0., 1., 0., 0., 0., 0.])`"
   ]
  },
  {
   "cell_type": "markdown",
   "metadata": {},
   "source": [
    "1. Confirm that the image label data are integers with dtype `uint8`:"
   ]
  },
  {
   "cell_type": "code",
   "execution_count": 13,
   "metadata": {},
   "outputs": [
    {
     "name": "stdout",
     "output_type": "stream",
     "text": [
      "The data type of the training labels: uint8\n",
      "The data type of the test labels: uint8\n"
     ]
    }
   ],
   "source": [
    "print(f'The data type of the training labels: {y_train.dtype}')\n",
    "print(f'The data type of the test labels: {y_test.dtype}')"
   ]
  },
  {
   "cell_type": "markdown",
   "metadata": {},
   "source": [
    "2. Define a function that performs one-hot encoding on arrays:"
   ]
  },
  {
   "cell_type": "code",
   "execution_count": 14,
   "metadata": {},
   "outputs": [],
   "source": [
    "def one_hot_encoding(labels, dimension=10):\n",
    "    \"\"\"Define a one-hot variable for an all-zero vector\n",
    "    with 10 dimensions (number labels from 0 to 9).\n",
    "    \"\"\"\n",
    "    one_hot_labels = labels[..., None] == np.arange(dimension)[None]\n",
    "    return one_hot_labels.astype(np.float64)"
   ]
  },
  {
   "cell_type": "markdown",
   "metadata": {},
   "source": [
    "3. Encode the labels and assign the values to new variables:"
   ]
  },
  {
   "cell_type": "code",
   "execution_count": 15,
   "metadata": {},
   "outputs": [],
   "source": [
    "training_labels = one_hot_encoding(y_train[:training_sample])\n",
    "test_labels = one_hot_encoding(y_test[:test_sample])"
   ]
  },
  {
   "cell_type": "markdown",
   "metadata": {},
   "source": [
    "4. Check that the data type has changed to floating point:"
   ]
  },
  {
   "cell_type": "code",
   "execution_count": 16,
   "metadata": {},
   "outputs": [
    {
     "name": "stdout",
     "output_type": "stream",
     "text": [
      "The data type of training labels: float64\n",
      "The data type of test labels: float64\n"
     ]
    }
   ],
   "source": [
    "print(f'The data type of training labels: {training_labels.dtype}')\n",
    "print(f'The data type of test labels: {test_labels.dtype}')"
   ]
  },
  {
   "cell_type": "code",
   "execution_count": 17,
   "metadata": {},
   "outputs": [
    {
     "name": "stdout",
     "output_type": "stream",
     "text": [
      "encoded: [0. 0. 0. 0. 0. 1. 0. 0. 0. 0.] original: 5\n",
      "encoded: [1. 0. 0. 0. 0. 0. 0. 0. 0. 0.] original: 0\n",
      "encoded: [0. 0. 0. 0. 1. 0. 0. 0. 0. 0.] original: 4\n"
     ]
    }
   ],
   "source": [
    "print('encoded:', training_labels[0], 'original:', y_train[0])\n",
    "print('encoded:', training_labels[1], 'original:', y_train[1])\n",
    "print('encoded:', training_labels[2], 'original:', y_train[2])"
   ]
  },
  {
   "cell_type": "markdown",
   "metadata": {},
   "source": [
    "#### 3. Build and train a small neural network from scratch\n",
    "\n",
    "In this section, some high-level concepts of the basic building blocks of a deep learning model will be demonstrated. Afterwards, the building blocks of a simple deep learning model will be constructed using Python and NumPy and trained to learn to identify handwritten digits from the MNIST dataset with a certain level of accuracy."
   ]
  },
  {
   "cell_type": "markdown",
   "metadata": {},
   "source": [
    "##### Neural network building blocks with NumPy"
   ]
  },
  {
   "cell_type": "markdown",
   "metadata": {},
   "source": [
    "* _Layers_: These building blocks work as data filters — they process data and learn representations from inputs to better predict the target outputs. Here, 1 hidden layer will be used in the model to pass the inputs forward (forward propagation) and propagate the gradients/error derivatives of a loss function backward (backpropagation). These are input, hidden and output layers. In the hidden (middle) and output (last) layers, the neural network model will compute the weighted sum of inputs. To compute this process, NumPy’s matrix multiplication function (the \"dot multiply\" or `np.dot(layer, weights)`) will be used.\n",
    "\n",
    "    > *Note: For simplicity, the bias term is omitted in this example (there is no np.dot(layer, weights) + bias).*"
   ]
  },
  {
   "cell_type": "markdown",
   "metadata": {},
   "source": [
    "* _Weights_: These are important adjustable parameters that the neural network fine-tunes by forward and backward propagating the data. They are optimized through a process called `gradient descent`. Before the model training starts, the weights are randomly initialized with NumPy’s `Generator.random()`. The optimal weights should produce the highest prediction accuracy and the lowest error on the training and test sets."
   ]
  },
  {
   "cell_type": "markdown",
   "metadata": {},
   "source": [
    "* _Activation function_: Deep learning models are capable of determining non-linear relationships between inputs and outputs and these non-linear functions are usually applied to the output of each layer. A `rectified linear unit (ReLU)` will be applied to the hidden layer’s output (for example, `relu(np.dot(layer, weights)`)."
   ]
  },
  {
   "cell_type": "markdown",
   "metadata": {},
   "source": [
    "* _Regularization_: This technique helps prevent the neural network model from `overfitting`. In this example, a method called dropout — dilution — will be used that randomly sets a number of features in a layer to 0s. It will be defined with NumPy’s `Generator.integers()` method and apply it to the hidden layer of the network."
   ]
  },
  {
   "cell_type": "markdown",
   "metadata": {},
   "source": [
    "* _Loss function_: The computation determines the quality of predictions by comparing the image labels (the truth) with the predicted values in the final layer’s output. For simplicity, a basic total squared error will be used using NumPy’s `np.sum()` function (for example, `np.sum((final_layer_output - image_labels) ** 2))`."
   ]
  },
  {
   "cell_type": "markdown",
   "metadata": {},
   "source": [
    "* _Accuracy_: This metric measures the accuracy of the network’s ability to predict on the data it hasn’t seen."
   ]
  },
  {
   "cell_type": "markdown",
   "metadata": {},
   "source": [
    "##### Model architecture and training summary"
   ]
  },
  {
   "cell_type": "markdown",
   "metadata": {},
   "source": [
    "* _The input layer_: It is the input for the network — the previously preprocessed data that is loaded from `training_images` into `layer_0`.\n",
    "\n",
    "* _The hidden (middle) layer_: `layer_1` takes the output from the previous layer and performs matrix-multiplication of the input by weights `(weights_1)` with NumPy’s `np.dot()`. Then, this output is passed through the ReLU activation function for non-linearity and then dropout is applied to help with overfitting.\n",
    "\n",
    "* _The output (last) layer_: `layer_2` ingests the output from `layer_1` and repeats the same `dot multiply` process with `weights_2`. The final output returns 10 scores for each of the 0-9 digit labels. The network model ends with a size 10 layer — a 10-dimensional vector.\n",
    "\n",
    "* _Forward propagation, Backpropagation, training loop_: In the beginning of model training, the network randomly initializes the weights and feeds the input data forward through the hidden and output layers. This process is the forward pass or forward propagation.\n",
    "\n",
    "    Then, the network propagates the `signal` from the loss function back through the hidden layer and adjusts the weights values with the help of the learning rate parameter (more on that later).\n",
    "\n",
    "    >   **Note**: In more technical terms, this is what happens:\n",
    "    >\n",
    "    >       1. Measure the error by comparing the real label of an image (the truth) with the prediction of the model.\n",
    "    >\n",
    "    >       2. Differentiate the loss function.\n",
    "    >\n",
    "    >       3. Ingest the `gradients` with the respect to the output, and backpropagate them with the respect to the inputs through the layer(s).\n",
    "    >\n",
    "    > Since the network contains tensor operations and weight matrices, backpropagation uses the `chain rule`. With each iteration (epoch) of the neural network training, this forward and backward propagation cycle adjusts the weights, which is reflected in the accuracy and error metrics. As the model is trained, the goal is to minimize the error and maximize the accuracy on the training data, where the model learns from, as well as the test data, where the model is evaluated."
   ]
  },
  {
   "cell_type": "markdown",
   "metadata": {},
   "source": [
    "##### Compose the model and begin training and testing it"
   ]
  },
  {
   "cell_type": "markdown",
   "metadata": {},
   "source": [
    "1. Start by creating a new random number generator, providing a seed for reproducibility:"
   ]
  },
  {
   "cell_type": "code",
   "execution_count": 18,
   "metadata": {},
   "outputs": [],
   "source": [
    "seed = 884736743\n",
    "rng = np.random.default_rng(seed)"
   ]
  },
  {
   "cell_type": "markdown",
   "metadata": {},
   "source": [
    "2. For the hidden layer, define the ReLU activation function for forward propagation and ReLU’s derivative that will be used during backpropagation:"
   ]
  },
  {
   "cell_type": "code",
   "execution_count": 19,
   "metadata": {},
   "outputs": [],
   "source": [
    "# Define ReLU that returns the input if it's positive and 0 otherwise.\n",
    "def relu(x):\n",
    "    return (x >= 0) * x"
   ]
  },
  {
   "cell_type": "code",
   "execution_count": 20,
   "metadata": {},
   "outputs": [],
   "source": [
    "# Set up a derivative of the ReLU function that returns 1 for a positive input and 0 otherwise\n",
    "def relu2deriv(output):\n",
    "    return output >= 0"
   ]
  },
  {
   "cell_type": "markdown",
   "metadata": {},
   "source": [
    "3. Set certain default values of `hyperparameters`, such as:\n",
    "\n",
    "* _Learning rate_: `learning_rate` — helps limit the magnitude of weight updates to prevent them from overcorrecting.\n",
    "\n",
    "* _Epochs (iterations)_: `epochs` — the number of complete passes — forward and backward propagations — of the data through the network. This parameter can positively or negatively affect the results. The higher the iterations, the longer the learning process may take. Because this is a computationally intensive task, a very low number of epochs (20) was chosen. To get meaningful results, a much larger number should be chosen.\n",
    "\n",
    "* _Size of the hidden (middle) layer in a network_: `hidden_size` — different sizes of the hidden layer can affect the results during training and testing.\n",
    "\n",
    "* _Size of the input_: `pixels_per_image` — the image input is 784 (28x28) (in pixels) has already been determined.\n",
    "\n",
    "* _Number of labels_: `num_labels` — indicates the output number for the output layer where the predictions occur for 10 (0 to 9) handwritten digit labels."
   ]
  },
  {
   "cell_type": "code",
   "execution_count": 21,
   "metadata": {},
   "outputs": [],
   "source": [
    "# hyper-parameters\n",
    "learning_rate = 0.005\n",
    "epochs = 20\n",
    "hidden_size = 100\n",
    "pixels_per_image = 784\n",
    "num_labels = 10"
   ]
  },
  {
   "cell_type": "markdown",
   "metadata": {},
   "source": [
    "4. Initialize the weight vectors that will be used in the hidden and output layers with random values:"
   ]
  },
  {
   "cell_type": "code",
   "execution_count": 22,
   "metadata": {},
   "outputs": [],
   "source": [
    "weights_1 = 0.2 * rng.random((pixels_per_image, hidden_size)) - 0.1\n",
    "weights_2 = 0.2 * rng.random((hidden_size, num_labels)) - 0.1"
   ]
  },
  {
   "cell_type": "markdown",
   "metadata": {},
   "source": [
    "5. Set up the neural network’s learning experiment with a training loop and start the training process. Note that the model is evaluated against the test set at each epoch to track its performance over the training epochs."
   ]
  },
  {
   "cell_type": "code",
   "execution_count": 23,
   "metadata": {},
   "outputs": [],
   "source": [
    "# To store training and test set losses and accurate predictions for visualization\n",
    "store_training_loss = []\n",
    "store_training_accurate_pred = []\n",
    "store_test_loss = []\n",
    "store_test_accurate_pred = []"
   ]
  },
  {
   "cell_type": "code",
   "execution_count": 24,
   "metadata": {},
   "outputs": [
    {
     "name": "stdout",
     "output_type": "stream",
     "text": [
      "\n",
      "Epoch: 0 Training set error:0.664 Training set accuracy:0.5928 Test set error:0.514 Test set accuracy:0.732\n",
      "\n",
      "Epoch: 1 Training set error:0.515 Training set accuracy:0.7254 Test set error:0.461 Test set accuracy:0.793\n",
      "\n",
      "Epoch: 2 Training set error:0.474 Training set accuracy:0.765 Test set error:0.427 Test set accuracy:0.8046\n",
      "\n",
      "Epoch: 3 Training set error:0.466 Training set accuracy:0.767 Test set error:0.419 Test set accuracy:0.809\n",
      "\n",
      "Epoch: 4 Training set error:0.460 Training set accuracy:0.779 Test set error:0.410 Test set accuracy:0.8134\n",
      "\n",
      "Epoch: 5 Training set error:0.441 Training set accuracy:0.7864 Test set error:0.402 Test set accuracy:0.8126\n",
      "\n",
      "Epoch: 6 Training set error:0.442 Training set accuracy:0.798 Test set error:0.398 Test set accuracy:0.8084\n",
      "\n",
      "Epoch: 7 Training set error:0.438 Training set accuracy:0.7974 Test set error:0.400 Test set accuracy:0.8134\n",
      "\n",
      "Epoch: 8 Training set error:0.428 Training set accuracy:0.8038 Test set error:0.393 Test set accuracy:0.812\n",
      "\n",
      "Epoch: 9 Training set error:0.432 Training set accuracy:0.801 Test set error:0.401 Test set accuracy:0.8146\n",
      "\n",
      "Epoch: 10 Training set error:0.427 Training set accuracy:0.8044 Test set error:0.378 Test set accuracy:0.8234\n",
      "\n",
      "Epoch: 11 Training set error:0.427 Training set accuracy:0.8082 Test set error:0.386 Test set accuracy:0.8198\n",
      "\n",
      "Epoch: 12 Training set error:0.420 Training set accuracy:0.816 Test set error:0.382 Test set accuracy:0.8184\n",
      "\n",
      "Epoch: 13 Training set error:0.416 Training set accuracy:0.8184 Test set error:0.374 Test set accuracy:0.8232\n",
      "\n",
      "Epoch: 14 Training set error:0.410 Training set accuracy:0.8204 Test set error:0.377 Test set accuracy:0.8236\n",
      "\n",
      "Epoch: 15 Training set error:0.402 Training set accuracy:0.827 Test set error:0.371 Test set accuracy:0.8188\n",
      "\n",
      "Epoch: 16 Training set error:0.407 Training set accuracy:0.824 Test set error:0.369 Test set accuracy:0.8276\n",
      "\n",
      "Epoch: 17 Training set error:0.407 Training set accuracy:0.8164 Test set error:0.364 Test set accuracy:0.8254\n",
      "\n",
      "Epoch: 18 Training set error:0.417 Training set accuracy:0.8168 Test set error:0.367 Test set accuracy:0.8296\n",
      "\n",
      "Epoch: 19 Training set error:0.408 Training set accuracy:0.8254 Test set error:0.367 Test set accuracy:0.8176\n"
     ]
    }
   ],
   "source": [
    "# training loop starts here\n",
    "for j in range(epochs):\n",
    "    \n",
    "    #################\n",
    "    # Training step #\n",
    "    #################\n",
    "    \n",
    "    # Set the initial loss/error and the number of accurate predictions to zero\n",
    "    training_loss = 0.0\n",
    "    training_accurate_predictions = 0\n",
    "    \n",
    "    # For all images in the training set, perform a forward pass\n",
    "    # and backpropagation and adjust the weights accordingly\n",
    "    for i in range(len(training_images)):\n",
    "        # Forward propagation/forward pass\n",
    "        # 1. The input layer\n",
    "        #    Initialize the training image data as inputs\n",
    "        layer_0 = training_images[i]\n",
    "        # 2. The hidden layer:\n",
    "        #    Take in the training image data into the middle layer by\n",
    "        #    matrix-multiplying it by randomly initialized weights\n",
    "        layer_1 = np.dot(layer_0, weights_1)\n",
    "        # 3. Pass the hidden layer's output through the ReLU activation function\n",
    "        layer_1 = relu(layer_1)\n",
    "        # 4. Define the dropout function for regularization\n",
    "        dropout_mask = rng.integers(low=0, high=2, size=layer_1.shape)\n",
    "        # 5. Apply dropout to the hidden layer's output\n",
    "        layer_1 *= dropout_mask * 2\n",
    "        # 6. The output layer:\n",
    "        #    Ingest the output of the middle layer into the the final layer\n",
    "        #    by matrix-multiplying it by randomly initialized weights\n",
    "        #    Produce a 10-dimensional vector with 10 scores\n",
    "        layer_2 = np.dot(layer_1, weights_2)\n",
    "        \n",
    "        # Backpropagation/backward pass:\n",
    "        # 1. Measure the training error (loss function) between the actual\n",
    "        #    image labels (the truth) and the prediction by the model\n",
    "        training_loss += np.sum((training_labels[i] - layer_2) ** 2)\n",
    "        # 2. Increment the accurate prediction count\n",
    "        training_accurate_predictions += int(np.argmax(layer_2) == np.argmax(training_labels[i]))\n",
    "        # 3. Differentiate the loss function/error\n",
    "        layer_2_delta = training_labels[i] - layer_2\n",
    "        # 4. Propagate the gradients of the loss function back through the hidden layer\n",
    "        layer_1_delta = np.dot(weights_2, layer_2_delta) * relu2deriv(layer_1)\n",
    "        # 5. Apply the dropout to the gradients\n",
    "        layer_1_delta *= dropout_mask\n",
    "        # 6. Update the weights for the middle and input layers\n",
    "        #    by multiplying them by the learning rate and the gradients\n",
    "        weights_1 += learning_rate * np.outer(layer_0, layer_1_delta)\n",
    "        weights_2 += learning_rate * np.outer(layer_1, layer_2_delta)\n",
    "    \n",
    "    # Store training set losses and accurate predictions\n",
    "    store_training_loss.append(training_loss)\n",
    "    store_training_accurate_pred.append(training_accurate_predictions)\n",
    "    \n",
    "    ###################\n",
    "    # Evaluation step #\n",
    "    ###################\n",
    "    \n",
    "    # Evaluate model performance on the test set at each epoch\n",
    "    \n",
    "    # Unlike the training step, the weights are not modified for each image\n",
    "    # (or batch). Therefore the model can be applied to the test images in a\n",
    "    # vectorized manner, eliminating the need to loop over each image individually:\n",
    "    results = relu(test_images @ weights_1) @ weights_2\n",
    "    \n",
    "    # Measure the error between the actual label (truth) and prediction values\n",
    "    test_loss = np.sum((test_labels - results) ** 2)\n",
    "    \n",
    "    # Measure prediction accuracy on test set\n",
    "    test_accurate_predictions = np.sum(np.argmax(results, axis=1) == np.argmax(test_labels, axis=1))\n",
    "    \n",
    "    # Store test set losses and accurate predictions\n",
    "    store_test_loss.append(test_loss)\n",
    "    store_test_accurate_pred.append(test_accurate_predictions)\n",
    "    \n",
    "    # Summarize error and accuracy metrics at each epoch\n",
    "    print(\n",
    "        '\\n'\n",
    "        + 'Epoch: ' + str(j)\n",
    "        + ' Training set error:' + str(training_loss / float(len(training_images)))[:5]\n",
    "        + ' Training set accuracy:' + str(training_accurate_predictions / float(len(training_images)))\n",
    "        + ' Test set error:' + str(test_loss / float(len(test_images)))[:5]\n",
    "        + ' Test set accuracy:' + str(test_accurate_predictions / float(len(test_images)))\n",
    "    )"
   ]
  },
  {
   "cell_type": "markdown",
   "metadata": {},
   "source": [
    "After executing the cell above, the training and test set errors and accuracy can be visualized for an instance of this training process."
   ]
  },
  {
   "cell_type": "code",
   "execution_count": 25,
   "metadata": {},
   "outputs": [],
   "source": [
    "# training set matrics\n",
    "y_training_error = [\n",
    "    store_training_loss[i] / float(len(training_images))\n",
    "    for i in range(len(store_training_loss))\n",
    "]\n",
    "x_training_error = range(1, len(store_training_loss) + 1)\n",
    "\n",
    "y_training_accuracy = [\n",
    "    store_training_accurate_pred[i] / float(len(training_images))\n",
    "    for i in range(len(store_training_accurate_pred))\n",
    "]\n",
    "x_training_accuracy = range(1, len(store_training_accurate_pred) + 1)\n",
    "\n",
    "# test set matrics\n",
    "y_test_error = [\n",
    "    store_test_loss[i] / float(len(test_images))\n",
    "    for i in range(len(store_test_loss))\n",
    "]\n",
    "x_test_error = range(1, len(store_test_loss) + 1)\n",
    "\n",
    "y_test_accuracy = [\n",
    "    store_test_accurate_pred[i] / float(len(test_images))\n",
    "    for i in range(len(store_test_accurate_pred))\n",
    "]\n",
    "x_test_accuracy = range(1, len(store_test_accurate_pred) + 1)"
   ]
  },
  {
   "cell_type": "code",
   "execution_count": 26,
   "metadata": {},
   "outputs": [
    {
     "data": {
      "image/png": "[encoded data removed]",
      "text/plain": [
       "<Figure size 1080x360 with 2 Axes>"
      ]
     },
     "metadata": {
      "needs_background": "light"
     },
     "output_type": "display_data"
    }
   ],
   "source": [
    "# display the plots\n",
    "fig, axes = plt.subplots(nrows=1, ncols=2, figsize=(15, 5))\n",
    "\n",
    "axes[0].set_title('Training set - error, accuracy')\n",
    "axes[0].plot(x_training_accuracy, y_training_accuracy, label='Accuracy')\n",
    "axes[0].plot(x_training_error, y_test_error, label='Error')\n",
    "axes[0].set_xlabel('Epochs')\n",
    "\n",
    "axes[1].set_title('Test set - error, accuracy')\n",
    "axes[1].plot(x_test_accuracy, y_test_accuracy, label='Accuracy')\n",
    "axes[1].plot(x_test_error, y_test_error, label='Error')\n",
    "axes[1].set_xlabel('Epochs')\n",
    "\n",
    "plt.show()"
   ]
  },
  {
   "cell_type": "markdown",
   "metadata": {},
   "source": [
    "_The training and testing error is shown above in the left and right plots, respectively. As the number of Epochs increases, the total error decreases and the accuracy increases._"
   ]
  },
  {
   "cell_type": "markdown",
   "metadata": {},
   "source": [
    "#### Possible upgrades\n",
    "\n",
    "To further enhance and optimize this neural network model, one of a mixture of the following might be considered:\n",
    "\n",
    "* `Increase the training sample size` from 1,000 to a higher number (up to 60,000).\n",
    "\n",
    "* Use `mini-batches` and reduce the learning rate.\n",
    "\n",
    "* Alter the architecture by introducing `more hidden layers` to make the network deeper.\n",
    "\n",
    "* Combine the `cross-entropy` loss function with a softmax activation function in the last layer.\n",
    "\n",
    "* Replace the feedforward network with a `convolutional neural network` (CNN) architecture.\n",
    "\n",
    "* Use a higher epoch size to train longer and add more regularization techniques, such as `early stopping`, to prevent `overfitting`.\n",
    "\n",
    "* Introduce a `validation set` for an unbiased valuation of the model fit.\n",
    "\n",
    "* Apply `batch normalization` for faster and more stable training.\n",
    "\n",
    "* `Tune other hyperparameters`, such as the learning rate and hidden layer size."
   ]
  },
  {
   "cell_type": "code",
   "execution_count": null,
   "metadata": {},
   "outputs": [],
   "source": []
  }
 ],
 "metadata": {
  "kernelspec": {
   "display_name": "Python 3.9.6 ('numpy-env': venv)",
   "language": "python",
   "name": "python3"
  },
  "language_info": {
   "codemirror_mode": {
    "name": "ipython",
    "version": 3
   },
   "file_extension": ".py",
   "mimetype": "text/x-python",
   "name": "python",
   "nbconvert_exporter": "python",
   "pygments_lexer": "ipython3",
   "version": "3.9.6"
  },
  "orig_nbformat": 4,
  "vscode": {
   "interpreter": {
    "hash": "e07381a18c4617a415946caa67d46b4c42c8d56d2c115aa50b3b0426ade0f84a"
   }
  }
 },
 "nbformat": 4,
 "nbformat_minor": 2
}

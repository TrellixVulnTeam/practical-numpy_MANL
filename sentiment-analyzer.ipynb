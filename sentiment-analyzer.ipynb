{
 "cells": [
  {
   "cell_type": "markdown",
   "metadata": {},
   "source": [
    "# Sentiment Analysis on notable speeches of the last decade"
   ]
  },
  {
   "cell_type": "markdown",
   "metadata": {},
   "source": [
    "## Introduction\n",
    "\n",
    "This notebook demonstrates how to build a simple `Long Short Term memory network (LSTM)` from scratch in NumPy to perform sentiment analysis on a socially relevant and ethically acquired dataset.\n",
    "\n",
    "This deep learning model (the LSTM) is a form of a `Recurrent Neural Network` and will learn to classify a piece of text as positive or negative from the IMDB reviews dataset. The dataset contains 50000 movie reviews and corresponding labels. Based on the numeric representations of these reviews and their corresponding labels `(supervised learning)` the neural network will be trained to learn the sentiment using `forward propagation` and `backpropagation` through time since we are dealing with sequential data here. The output will be a vector containing the probabilities that the text samples are positive."
   ]
  },
  {
   "cell_type": "markdown",
   "metadata": {},
   "source": [
    "## Requirements\n",
    "\n",
    "* `Python`\n",
    "* Array manipulation using `NumPy`\n",
    "* Basic understanding of `linear algebra` and `calculus`\n",
    "* Understanding how `Neural Networks` work\n",
    "* `pandas` for handling dataframes\n",
    "* `Matplotlib` for data visualization\n",
    "* `pooch` to download and cache datasets"
   ]
  },
  {
   "cell_type": "markdown",
   "metadata": {},
   "source": [
    "#### 1. Data Collection\n",
    "\n",
    "Before beginning, there are a few pointers to be always kept in mind before choosing the data in order to train the model on:\n",
    "\n",
    "* __Identifying Data Bias__: Bias is an inherent component of the human thought process. Therefore data sourced from human activities reflects that bias. Some ways in which this bias tends to occur in Machine Learning datasets are:\n",
    "    * _Bias in historical data_: Historical data are often skewed towards, or against, particular groups. Data can also be severely imbalanced with limited information on protected groups.\n",
    "    * _Bias in data collection mechanisms_: Lack of representativeness introduces inherent biases in the data collection process.\n",
    "    * _Bias towards observable outcomes_: In some scenarios, there are cases about True Outcomes only for a certain section of the population. In the absence of information on all outcomes, one cannot even measure fairness.\n",
    "\n",
    "* __Preserving human anonymity for sensitive data__: `Trevisan` and `Reilly` identified a list of sensitive topics that need to be handled with extra care. The same is presented below along with a few additions:\n",
    "    * personal daily routines (including location data)\n",
    "    * individual details about impairment and/or medical records\n",
    "    * emotional accounts of pain and chronic illness\n",
    "    * financial information about income and/or welfare payments\n",
    "    * discrimination and abuse episodes\n",
    "    * criticism/praise of individual providers of healthcare and support services\n",
    "    * suicidal thoughts\n",
    "    * criticism/praise of a power structure especially if it compromises their safety\n",
    "    * personally-identifying information (even if anonymized in some way) including things like fingerprints or voice"
   ]
  },
  {
   "cell_type": "markdown",
   "metadata": {},
   "source": [
    "> While it can be difficult taking consent from so many people especially on on-line platforms, the necessity of it depends upon the sensitivity of the topics your data includes and other indicators like whether the platform the data was obtained from allows users to operate under pseudonyms. If the website has a policy that forces the use of a real name, then the users need to be asked for consent."
   ]
  },
  {
   "cell_type": "markdown",
   "metadata": {},
   "source": [
    "In this section, two different datasets will be collected: the IMDb movie reviews dataset, and a collection of 10 speeches curated for this tutorial including activists from different countries around the world, different times, and different topics. The former would be used to train the deep learning model while the latter will be used to perform sentiment analysis on."
   ]
  },
  {
   "cell_type": "code",
   "execution_count": null,
   "metadata": {},
   "outputs": [],
   "source": []
  }
 ],
 "metadata": {
  "kernelspec": {
   "display_name": "Python 3.9.6 ('numpy-env': venv)",
   "language": "python",
   "name": "python3"
  },
  "language_info": {
   "name": "python",
   "version": "3.9.6"
  },
  "orig_nbformat": 4,
  "vscode": {
   "interpreter": {
    "hash": "e07381a18c4617a415946caa67d46b4c42c8d56d2c115aa50b3b0426ade0f84a"
   }
  }
 },
 "nbformat": 4,
 "nbformat_minor": 2
}

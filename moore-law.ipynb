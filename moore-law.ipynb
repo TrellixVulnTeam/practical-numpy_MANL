{
 "cells": [
  {
   "cell_type": "markdown",
   "metadata": {},
   "source": [
    "# Moore's Law"
   ]
  },
  {
   "cell_type": "markdown",
   "metadata": {},
   "source": [
    "## Introduction\n",
    "\n",
    "In 1965, engineer Gordon Moore predicted that transistors on a chip would double every two years in the coming decade. This notebook will compare Moore’s prediction against actual transistor counts in the 53 years following his prediction. It will also demonstrate the determination the best-fit constants to describe the exponential growth of transistors on semiconductors compared to Moore’s Law."
   ]
  },
  {
   "cell_type": "markdown",
   "metadata": {},
   "source": [
    "## Objectives\n",
    "\n",
    "* Load data from a *.csv file\n",
    "* Perform linear regression and predict exponential growth using ordinary least squares\n",
    "* Compare exponential growth constants between models\n",
    "* Share result of analysis in a file:\n",
    "    * as NumPy zipped files *.npz\n",
    "    * as a *.csv file\n",
    "* Assess the amazing progress semiconductor manufacturers have made in the last five decades"
   ]
  },
  {
   "cell_type": "markdown",
   "metadata": {},
   "source": [
    "## Requirements\n",
    "\n",
    "1. Packages need to be installed for running this notebook are:\n",
    "    * NumPy\n",
    "    * Matplotlib\n",
    "    * statsmodels (for ordinary linear regression)\n",
    "\n",
    "2. Since this is an exponential growth law, a little background in doing math with  `natural logs` and `exponentials` will be required. The following NumPy, Matplotlib, and statsmodels functions will be used:\n",
    "\n",
    "    * `np.loadtxt`: this function loads text into a NumPy array\n",
    "    * `np.log`: this function takes the natural log of all elements in a NumPy array\n",
    "    * `np.exp`: this function takes the exponential of all elements in a NumPy array\n",
    "    * `lambda`: this is a minimal function definition for creating a function model\n",
    "    * `plt.semilogy`: this function will plot x-y data onto a figure with a linear x-axis and <math xmlns='http://www.w3.org/1998/Math/MathML'><msub><mi>log</mi><mrow data-mjx-texclass='ORD\"><mn>10</mn></mrow></msub></math> y-axis\n",
    "    * `plt.plot`: this function will plot x-y data on linear axes\n",
    "    * `sm.OLS`: find fitting parameters and standard errors using the statsmodels ordinary least squares model\n",
    "    * <b>slicing arrays</b>: view parts of the data loaded into the workspace, slice the arrays e.g. x[:10] for the first 10 values in the array, x\n",
    "    * <b>boolean array indexing</b>: to view parts of the data that match a given condition use boolean operations to index an array\n",
    "    * `np.block`: to combine arrays into 2D arrays\n",
    "    * `np.newaxis`: to change a 1D vector to a row or column vector\n",
    "    * `np.savez` and `np.savetxt`: these two functions will save your arrays in zipped array format and text, respectively"
   ]
  },
  {
   "cell_type": "markdown",
   "metadata": {},
   "source": [
    "## Explanation\n",
    "\n",
    "The empirical model of Moore's law assumes that the number of transistors per semiconductor follows an exponential growth.\n",
    "\n",
    "<math xmlns=\"http://www.w3.org/1998/Math/MathML\"><mi>log`</mi><mo data-mjx-texclass=\"NONE\">&#x2061;</mo><mo stretchy=\"false\">(</mo><mtext>transistor_count</mtext><mo stretchy=\"false\">)</mo><mo>=</mo><mi>f</mi><mo stretchy=\"false\">(</mo><mtext>year</mtext><mo stretchy=\"false\">)</mo><mo>=</mo><mi>A</mi><mo>&#x22C5;</mo><mtext>year</mtext><mo>+</mo><mi>B</mi></math>\n",
    "\n",
    "where A and B are fitting constants. Semiconductor manufacturers’ data will be used to find the fitting constants.\n",
    "\n",
    "These constants for Moore’s law need to be determined by specifying the rate for added transistors, 2, and giving an initial number of transistors for a given year. Moore’s law is stated in an exponential form as follows:\n",
    "\n",
    "<math xmlns=\"http://www.w3.org/1998/Math/MathML\"><mtext>transistor_count</mtext><mo>=</mo><msup><mi>e</mi><mrow data-mjx-texclass=\"ORD\"><msub><mi>A</mi><mi>M</mi></msub><mo>&#x22C5;</mo><mtext>year</mtext><mo>+</mo><msub><mi>B</mi><mi>M</mi></msub></mrow></msup></math>\n",
    "\n",
    "Where <math xmlns=\"http://www.w3.org/1998/Math/MathML\"><msub><mi>A</mi><mi>M</mi></msub></math> and <math xmlns=\"http://www.w3.org/1998/Math/MathML\"><msub><mi>B</mi><mi>M</mi></msub></math> are constants that double the number of transistors every two years and start at 2250 transistors in 1971,\n",
    "\n",
    "1. <math xmlns=\"http://www.w3.org/1998/Math/MathML\"><mstyle displaystyle=\"true\" scriptlevel=\"0\"><mfrac><mrow><mtext>transistor_count</mtext><mo stretchy=\"false\">(</mo><mtext>year</mtext><mo>+</mo><mn>2</mn><mo stretchy=\"false\">)</mo></mrow><mrow><mtext>transistor_count</mtext><mo stretchy=\"false\">(</mo><mtext>year</mtext><mo stretchy=\"false\">)</mo></mrow></mfrac></mstyle><mo>=</mo><mn>2</mn><mo>=</mo><mstyle displaystyle=\"true\" scriptlevel=\"0\"><mfrac><mrow><msup><mi>e</mi><mrow data-mjx-texclass=\"ORD\"><msub><mi>B</mi><mi>M</mi></msub></mrow></msup><msup><mi>e</mi><mrow data-mjx-texclass=\"ORD\"><msub><mi>A</mi><mi>M</mi></msub><mtext>year</mtext><mo>+</mo><mn>2</mn><msub><mi>A</mi><mi>M</mi></msub></mrow></msup></mrow><mrow><msup><mi>e</mi><mrow data-mjx-texclass=\"ORD\"><msub><mi>B</mi><mi>M</mi></msub></mrow></msup><msup><mi>e</mi><mrow data-mjx-texclass=\"ORD\"><msub><mi>A</mi><mi>M</mi></msub><mtext>year</mtext></mrow></msup></mrow></mfrac></mstyle><mo>=</mo><msup><mi>e</mi><mrow data-mjx-texclass=\"ORD\"><mn>2</mn><msub><mi>A</mi><mi>M</mi></msub></mrow></msup><mo stretchy=\"false\">&#x2192;</mo><msub><mi>A</mi><mi>M</mi></msub><mo>=</mo><mfrac><mrow><mi>log</mi><mo data-mjx-texclass=\"NONE\">&#x2061;</mo><mo stretchy=\"false\">(</mo><mn>2</mn><mo stretchy=\"false\">)</mo></mrow><mn>2</mn></mfrac></math>\n",
    "\n",
    "2. $\\log(2250) = \\frac{\\log(2)}{2}\\cdot 1971 + B_M \\rightarrow B_M = \\log(2250)-\\frac{\\log(2)}{2}\\cdot 1971$\n",
    "\n",
    "so Moore’s law stated as an exponential function is\n",
    "\n",
    "<math xmlns=\"http://www.w3.org/1998/Math/MathML\"><mi>log</mi><mo data-mjx-texclass=\"NONE\">&#x2061;</mo><mo stretchy=\"false\">(</mo><mtext>transistor_count</mtext><mo stretchy=\"false\">)</mo><mo>=</mo><msub><mi>A</mi><mi>M</mi></msub><mo>&#x22C5;</mo><mtext>year</mtext><mo>+</mo><msub><mi>B</mi><mi>M</mi></msub></math>\n",
    "\n",
    "where\n",
    "\n",
    "$A_M=0.3466$\n",
    "\n",
    "$B_M=-675.4$"
   ]
  },
  {
   "cell_type": "code",
   "execution_count": 1,
   "metadata": {},
   "outputs": [],
   "source": [
    "import numpy as np\n",
    "import statsmodels.api as sm\n",
    "import matplotlib.pyplot as plt"
   ]
  },
  {
   "cell_type": "code",
   "execution_count": 2,
   "metadata": {},
   "outputs": [],
   "source": [
    "A_M = np.log(2) / 2\n",
    "B_M = np.log(2250) - A_M * 1971\n",
    "Moores_law = lambda year: np.exp(B_M) * np.exp(A_M * year)"
   ]
  },
  {
   "cell_type": "markdown",
   "metadata": {},
   "source": [
    "In 1971, there were 2250 transistors on the Intel 4004 chip. Use Moores_law to check the number of semiconductors Gordon Moore would expect in 1973."
   ]
  },
  {
   "cell_type": "code",
   "execution_count": 3,
   "metadata": {},
   "outputs": [
    {
     "name": "stdout",
     "output_type": "stream",
     "text": [
      "In 1973, G. Moore expects 4500 transistors on Intels chips\n",
      "This is x2.00 more transistors than 1971\n"
     ]
    }
   ],
   "source": [
    "ML_1971 = Moores_law(1971)\n",
    "ML_1973 = Moores_law(1973)\n",
    "print(f'In 1973, G. Moore expects {ML_1973:.0f} transistors on Intels chips')\n",
    "print(f'This is x{(ML_1973 / ML_1971):.2f} more transistors than 1971')"
   ]
  },
  {
   "cell_type": "code",
   "execution_count": 4,
   "metadata": {},
   "outputs": [],
   "source": [
    "data = np.loadtxt('data/transistor_data.csv', delimiter=',', usecols=[1, 2], skiprows=1)"
   ]
  },
  {
   "cell_type": "code",
   "execution_count": 5,
   "metadata": {},
   "outputs": [
    {
     "name": "stdout",
     "output_type": "stream",
     "text": [
      "year:\t\t\t [1971. 1972. 1973. 1974. 1974. 1974. 1974. 1975. 1975. 1975.]\n",
      "transistor count:\t [2250. 3500. 2500. 3000. 4100. 6000. 8000. 4528. 4000. 5000.]\n"
     ]
    }
   ],
   "source": [
    "year = data[:, 1]\n",
    "transistor_count = data[:, 0]\n",
    "\n",
    "print('year:\\t\\t\\t', year[:10])\n",
    "print('transistor count:\\t', transistor_count[:10])"
   ]
  },
  {
   "cell_type": "code",
   "execution_count": 6,
   "metadata": {},
   "outputs": [],
   "source": [
    "yi = np.log(transistor_count)"
   ]
  },
  {
   "cell_type": "markdown",
   "metadata": {},
   "source": [
    "The model assumes that yi is a function of year. Now, find the best-fit model that minimizes the difference between $y_i$ and $A\\cdot \\text{year} +B$, as such\n",
    "\n",
    "$\\min \\sum|y_i - (A\\cdot \\text{year}_i + B)|^2$\n",
    "\n",
    "This sum of squares error can be succinctly represented as arrays as such\n",
    "\n",
    "$\\sum|\\mathbf{y}-\\mathbf{Z} [A,~B]^T|^2$\n",
    "\n",
    "where `y` are the observations of the log of the number of transistors in a 1D array and $\\mathbf{Z}=[\\text{year}_i^1,~\\text{year}_i^0]$ are the polynomial terms for $\\text{year}_i$ in the first and second columns. By creating this set of regressors in the `Z-matrix` you set up an ordinary least squares statistical model. Some clever NumPy array features will build `Z`\n",
    "\n",
    "1. `year[:,np.newaxis]`: takes the 1D array with shape (179,) and turns it into a 2D column vector with shape (179,1)\n",
    "\n",
    "2. `**[1, 0]`: stacks two columns, in the first column is `year**1` and the second column is `year**0 == 1`"
   ]
  },
  {
   "cell_type": "code",
   "execution_count": 7,
   "metadata": {},
   "outputs": [],
   "source": [
    "Z = year[:, np.newaxis] ** [1, 0]"
   ]
  },
  {
   "cell_type": "markdown",
   "metadata": {},
   "source": [
    "Now that a matrix of regressors, $Z$, and the observations are in vector, $y_i$, are prepared, these variables can be used to build the an ordinary least squares model with `sm.OLS`."
   ]
  },
  {
   "cell_type": "code",
   "execution_count": 8,
   "metadata": {},
   "outputs": [],
   "source": [
    "model = sm.OLS(yi, Z)"
   ]
  },
  {
   "cell_type": "markdown",
   "metadata": {},
   "source": [
    "Now, the fitting constants, $A$ and $B$, and their standard errors can be viewed by running the fit and printing the summary to view results as such,"
   ]
  },
  {
   "cell_type": "code",
   "execution_count": 9,
   "metadata": {},
   "outputs": [
    {
     "name": "stdout",
     "output_type": "stream",
     "text": [
      "                            OLS Regression Results                            \n",
      "==============================================================================\n",
      "Dep. Variable:                      y   R-squared:                       0.949\n",
      "Model:                            OLS   Adj. R-squared:                  0.949\n",
      "Method:                 Least Squares   F-statistic:                     3309.\n",
      "Date:                Sun, 17 Jul 2022   Prob (F-statistic):          1.75e-116\n",
      "Time:                        17:39:11   Log-Likelihood:                -273.43\n",
      "No. Observations:                 179   AIC:                             550.9\n",
      "Df Residuals:                     177   BIC:                             557.2\n",
      "Df Model:                           1                                         \n",
      "Covariance Type:            nonrobust                                         \n",
      "==============================================================================\n",
      "                 coef    std err          t      P>|t|      [0.025      0.975]\n",
      "------------------------------------------------------------------------------\n",
      "x1             0.3416      0.006     57.521      0.000       0.330       0.353\n",
      "const       -666.3264     11.890    -56.042      0.000    -689.790    -642.862\n",
      "==============================================================================\n",
      "Omnibus:                      128.297   Durbin-Watson:                   1.600\n",
      "Prob(Omnibus):                  0.000   Jarque-Bera (JB):             1184.322\n",
      "Skew:                          -2.637   Prob(JB):                    6.73e-258\n",
      "Kurtosis:                      14.444   Cond. No.                     2.84e+05\n",
      "==============================================================================\n",
      "\n",
      "Notes:\n",
      "[1] Standard Errors assume that the covariance matrix of the errors is correctly specified.\n",
      "[2] The condition number is large, 2.84e+05. This might indicate that there are\n",
      "strong multicollinearity or other numerical problems.\n"
     ]
    }
   ],
   "source": [
    "results = model.fit()\n",
    "print(results.summary())"
   ]
  },
  {
   "cell_type": "markdown",
   "metadata": {},
   "source": [
    "The __OLS Regression Results__ summary gives a lot of information about the regressors, $\\mathbf{Z},$ and observations, $\\mathbf{y}.$ The most important outputs for your current analysis are\n",
    "\n",
    "```\n",
    "=================================\n",
    "                 coef    std err\n",
    "---------------------------------\n",
    "x1             0.3416      0.006\n",
    "const       -666.3264     11.890\n",
    "=================================\n",
    "```\n",
    "\n",
    "where `x1` is slope, $A=0.3416$, `const` is the intercept, $B=-666.364$, and `std error` gives the precision of constants $A=0.342\\pm 0.006~\\dfrac{\\log(\\text{transistors}/\\text{chip})}{\\text{years}}$ and $B=-666\\pm 12~\\log(\\text{transistors}/\\text{chip}),$ where the units are in $\\log(\\text{transistors}/\\text{chip})$. An exponential growth model is trained. To get the constants, save them to an array `AB` with `results.params` and assign $A$ and $B$ to `x1` and `constant`."
   ]
  },
  {
   "cell_type": "code",
   "execution_count": 10,
   "metadata": {},
   "outputs": [],
   "source": [
    "AB = results.params\n",
    "A = AB[0]\n",
    "B = AB[1]"
   ]
  },
  {
   "cell_type": "markdown",
   "metadata": {},
   "source": [
    "Did manufacturers double the transistor count every two years? You have\n",
    "the final formula,\n",
    "\n",
    "<math xmlns=\"http://www.w3.org/1998/Math/MathML\"><mstyle displaystyle=\"true\" scriptlevel=\"0\"><mfrac><mrow><mtext>transistor_count</mtext><mo stretchy=\"false\">(</mo><mtext>year</mtext><mo>+</mo><mn>2</mn><mo stretchy=\"false\">)</mo></mrow><mrow><mtext>transistor_count</mtext><mo stretchy=\"false\">(</mo><mtext>year</mtext><mo stretchy=\"false\">)</mo></mrow></mfrac></mstyle><mo>=</mo><mi>x</mi><mi>F</mi><mi>a</mi><mi>c</mi><mi>t</mi><mi>o</mi><mi>r</mi><mo>=</mo><mstyle displaystyle=\"true\" scriptlevel=\"0\"><mfrac><mrow><msup><mi>e</mi><mrow data-mjx-texclass=\"ORD\"><mi>B</mi></mrow></msup><msup><mi>e</mi><mrow data-mjx-texclass=\"ORD\"><mi>A</mi><mo stretchy=\"false\">(</mo><mtext>year</mtext><mo>+</mo><mn>2</mn><mo stretchy=\"false\">)</mo></mrow></msup></mrow><mrow><msup><mi>e</mi><mrow data-mjx-texclass=\"ORD\"><mi>B</mi></mrow></msup><msup><mi>e</mi><mrow data-mjx-texclass=\"ORD\"><mi>A</mi><mtext>year</mtext></mrow></msup></mrow></mfrac></mstyle><mo>=</mo><msup><mi>e</mi><mrow data-mjx-texclass=\"ORD\"><mn>2</mn><mi>A</mi></mrow></msup></math>\n",
    "\n",
    "where increase in number of transistors is $xFactor,$ number of years is 2, and $A$ is the best fit slope on the semilog function. The error in your prediction, $\\Delta(xFactor),$ comes from the precision of your constant $A$, which you calculated as the standard error $\\Delta A= 0.006$.\n",
    "\n",
    "$\\Delta (xFactor) = \\frac{\\partial}{\\partial A}(e^{2A})\\Delta A = 2Ae^{2A}\\Delta A$"
   ]
  },
  {
   "cell_type": "code",
   "execution_count": 11,
   "metadata": {},
   "outputs": [
    {
     "name": "stdout",
     "output_type": "stream",
     "text": [
      "Rate of semiconductors added on a chip every 2 years:\n",
      "\tx1.98 +/- 0.01 semiconductors per chip\n"
     ]
    }
   ],
   "source": [
    "print('Rate of semiconductors added on a chip every 2 years:')\n",
    "print('\\tx{:.2f} +/- {:.2f} semiconductors per chip'.format(np.exp((A) * 2), 2 * A * np.exp(2 * A) * 0.006))"
   ]
  },
  {
   "cell_type": "markdown",
   "metadata": {},
   "source": [
    "Based upon the least-squares regression model, the number of semiconductors per chip increased by a factor of $1.98\\pm 0.01$ every two years. This model predicts the number of semiconductors each year. Now compare the model to the actual manufacturing reports. Plot the linear regression results and all of the transistor counts."
   ]
  },
  {
   "cell_type": "code",
   "execution_count": 12,
   "metadata": {},
   "outputs": [
    {
     "data": {
      "text/plain": [
       "<matplotlib.legend.Legend at 0x1d8eeb945e0>"
      ]
     },
     "execution_count": 12,
     "metadata": {},
     "output_type": "execute_result"
    },
    {
     "data": {
      "image/png": "[encoded data removed]",
      "text/plain": [
       "<Figure size 432x288 with 1 Axes>"
      ]
     },
     "metadata": {
      "needs_background": "light"
     },
     "output_type": "display_data"
    }
   ],
   "source": [
    "transistor_count_predicted = np.exp(B) * np.exp(A * year)\n",
    "transistor_moores_law = Moores_law(year)\n",
    "\n",
    "plt.style.use('fivethirtyeight')\n",
    "plt.semilogy(year, transistor_count, 's', label='MOS transistor count')\n",
    "plt.semilogy(year, transistor_count_predicted, label='linear regression')\n",
    "\n",
    "plt.plot(year, transistor_moores_law, label=\"Moore's law\")\n",
    "plt.title(\n",
    "    'MOS transistor count per microprocessor\\n'\n",
    "    + 'every two years \\n'\n",
    "    + 'Transistor count was x{:.2f} higher'.format(np.exp(A * 2))\n",
    ")\n",
    "plt.xlabel('year introduced')\n",
    "plt.ylabel('# of transistors\\nper microprocessor')\n",
    "plt.legend(loc='center left', bbox_to_anchor=(1, 0.5))"
   ]
  },
  {
   "cell_type": "code",
   "execution_count": 13,
   "metadata": {},
   "outputs": [
    {
     "name": "stdout",
     "output_type": "stream",
     "text": [
      "10000000000.0 5500000000.0 7940857142.857142\n"
     ]
    }
   ],
   "source": [
    "transistor_count2018 = transistor_count[year == 2018]\n",
    "print(transistor_count2018.max(), transistor_count2018.min(), transistor_count2018.mean())"
   ]
  },
  {
   "cell_type": "code",
   "execution_count": 14,
   "metadata": {},
   "outputs": [],
   "source": [
    "y = np.linspace(2017.5, 2018.5)\n",
    "model_2018 = np.exp(B) * np.exp(A * y)\n",
    "moore_model_2018 = Moores_law(y)"
   ]
  },
  {
   "cell_type": "code",
   "execution_count": 15,
   "metadata": {},
   "outputs": [
    {
     "data": {
      "text/plain": [
       "<matplotlib.legend.Legend at 0x1d8eeedeee0>"
      ]
     },
     "execution_count": 15,
     "metadata": {},
     "output_type": "execute_result"
    },
    {
     "data": {
      "image/png": "[encoded data removed]",
      "text/plain": [
       "<Figure size 432x288 with 1 Axes>"
      ]
     },
     "metadata": {
      "needs_background": "light"
     },
     "output_type": "display_data"
    }
   ],
   "source": [
    "plt.plot(\n",
    "    2018 * np.ones(np.sum(year == 2018)),\n",
    "    transistor_count2018,\n",
    "    'ro',\n",
    "    label='2018',\n",
    "    alpha=0.2\n",
    ")\n",
    "\n",
    "plt.plot(2018, transistor_count2018.mean(), 'g+', markersize=20, mew=6)\n",
    "\n",
    "plt.plot(y, model_2018, label='Model prediction')\n",
    "plt.plot(y, moore_model_2018, label=\"Moore's law\")\n",
    "plt.ylabel('# of transistors\\nper microprocessor')\n",
    "plt.legend()"
   ]
  },
  {
   "cell_type": "code",
   "execution_count": 16,
   "metadata": {},
   "outputs": [
    {
     "name": "stdout",
     "output_type": "stream",
     "text": [
      "the arrays in this file are the result of a linear regression model\n",
      "the arrays include\n",
      "year: year of manufacture\n",
      "transistor_count: number of transistors reported by manufacturers in a given year\n",
      "transistor_count_predicted: linear regression model = exp(-666.33)*exp(0.34*year)\n",
      "transistor_Moores_law: Moores law =exp(-675.38)*exp(0.35*year)\n",
      "regression_csts: linear regression constants A and B for log(transistor_count)=A*year+B\n"
     ]
    }
   ],
   "source": [
    "notes = 'the arrays in this file are the result of a linear regression model\\n'\n",
    "notes += 'the arrays include\\nyear: year of manufacture\\n'\n",
    "notes += 'transistor_count: number of transistors reported by manufacturers in a given year\\n'\n",
    "notes += 'transistor_count_predicted: linear regression model = exp({:.2f})*exp({:.2f}*year)\\n'.format(\n",
    "    B, A\n",
    ")\n",
    "notes += 'transistor_Moores_law: Moores law =exp({:.2f})*exp({:.2f}*year)\\n'.format(\n",
    "    B_M, A_M\n",
    ")\n",
    "notes += 'regression_csts: linear regression constants A and B for log(transistor_count)=A*year+B'\n",
    "print(notes)"
   ]
  },
  {
   "cell_type": "code",
   "execution_count": 17,
   "metadata": {},
   "outputs": [],
   "source": [
    "np.savez(\n",
    "    'data/mooreslaw_regression.npz',\n",
    "    notes=notes,\n",
    "    year=year,\n",
    "    transistor_count=transistor_count,\n",
    "    transistor_count_predicted=transistor_count_predicted,\n",
    "    transistor_moores_law=transistor_moores_law,\n",
    "    regression_csts=AB,\n",
    ")"
   ]
  },
  {
   "cell_type": "code",
   "execution_count": 18,
   "metadata": {},
   "outputs": [
    {
     "name": "stdout",
     "output_type": "stream",
     "text": [
      "-666.3264063536255\n"
     ]
    }
   ],
   "source": [
    "results = np.load('data/mooreslaw_regression.npz')\n",
    "print(results['regression_csts'][1])"
   ]
  },
  {
   "cell_type": "code",
   "execution_count": 19,
   "metadata": {},
   "outputs": [
    {
     "name": "stdout",
     "output_type": "stream",
     "text": [
      "the columns in this file are the result of a linear regression model\n",
      "the columns include\n",
      "year: year of manufacture\n",
      "transistor_count: number of transistors reported by manufacturers in a given year\n",
      "transistor_count_predicted: linear regression model = exp(-666.33)*exp(0.34*year)\n",
      "transistor_Moores_law: Moores law =exp(-675.38)*exp(0.35*year)\n",
      "year:, transistor_count:, transistor_count_predicted:, transistor_Moores_law:\n"
     ]
    }
   ],
   "source": [
    "head = 'the columns in this file are the result of a linear regression model\\n'\n",
    "head += 'the columns include\\nyear: year of manufacture\\n'\n",
    "head += 'transistor_count: number of transistors reported by manufacturers in a given year\\n'\n",
    "head += 'transistor_count_predicted: linear regression model = exp({:.2f})*exp({:.2f}*year)\\n'.format(\n",
    "    B, A\n",
    ")\n",
    "head += 'transistor_Moores_law: Moores law =exp({:.2f})*exp({:.2f}*year)\\n'.format(\n",
    "    B_M, A_M\n",
    ")\n",
    "head += 'year:, transistor_count:, transistor_count_predicted:, transistor_Moores_law:'\n",
    "print(head)"
   ]
  },
  {
   "cell_type": "code",
   "execution_count": 20,
   "metadata": {},
   "outputs": [
    {
     "data": {
      "text/plain": [
       "((179,), (179, 1))"
      ]
     },
     "execution_count": 20,
     "metadata": {},
     "output_type": "execute_result"
    }
   ],
   "source": [
    "year.shape, year[:, np.newaxis].shape"
   ]
  },
  {
   "cell_type": "code",
   "execution_count": 21,
   "metadata": {},
   "outputs": [],
   "source": [
    "output = np.block(\n",
    "    [\n",
    "        year[:, np.newaxis],\n",
    "        transistor_count[:, np.newaxis],\n",
    "        transistor_count_predicted[:, np.newaxis],\n",
    "        transistor_moores_law[:, np.newaxis],\n",
    "    ]\n",
    ")"
   ]
  },
  {
   "cell_type": "code",
   "execution_count": 22,
   "metadata": {},
   "outputs": [],
   "source": [
    "np.savetxt('data/mooreslaw_regression.csv', X=output, delimiter=',', header=head)"
   ]
  },
  {
   "cell_type": "code",
   "execution_count": null,
   "metadata": {},
   "outputs": [],
   "source": []
  }
 ],
 "metadata": {
  "kernelspec": {
   "display_name": "Python 3.9.6 ('numpy-env': venv)",
   "language": "python",
   "name": "python3"
  },
  "language_info": {
   "codemirror_mode": {
    "name": "ipython",
    "version": 3
   },
   "file_extension": ".py",
   "mimetype": "text/x-python",
   "name": "python",
   "nbconvert_exporter": "python",
   "pygments_lexer": "ipython3",
   "version": "3.9.6"
  },
  "orig_nbformat": 4,
  "vscode": {
   "interpreter": {
    "hash": "e07381a18c4617a415946caa67d46b4c42c8d56d2c115aa50b3b0426ade0f84a"
   }
  }
 },
 "nbformat": 4,
 "nbformat_minor": 2
}

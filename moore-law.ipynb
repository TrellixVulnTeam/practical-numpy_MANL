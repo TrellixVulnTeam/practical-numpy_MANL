{
 "cells": [
  {
   "cell_type": "markdown",
   "metadata": {},
   "source": [
    "# Moore's Law"
   ]
  },
  {
   "cell_type": "markdown",
   "metadata": {},
   "source": [
    "## Introduction\n",
    "\n",
    "In 1965, engineer Gordon Moore predicted that transistors on a chip would double every two years in the coming decade. This notebook will compare Moore’s prediction against actual transistor counts in the 53 years following his prediction. It will also demonstrate the determination the best-fit constants to describe the exponential growth of transistors on semiconductors compared to Moore’s Law."
   ]
  },
  {
   "cell_type": "markdown",
   "metadata": {},
   "source": [
    "## Objectives\n",
    "\n",
    "* Load data from a *.csv file\n",
    "* Perform linear regression and predict exponential growth using ordinary least squares\n",
    "* Compare exponential growth constants between models\n",
    "* Share result of analysis in a file:\n",
    "    * as NumPy zipped files *.npz\n",
    "    * as a *.csv file\n",
    "* Assess the amazing progress semiconductor manufacturers have made in the last five decades"
   ]
  },
  {
   "cell_type": "markdown",
   "metadata": {},
   "source": [
    "## Requirements\n",
    "\n",
    "1. Packages need to be installed for running this notebook are:\n",
    "    * NumPy\n",
    "    * Matplotlib\n",
    "    * statsmodel (for ordinary linear regression)\n",
    "\n",
    "2. Since this is an exponential growth law, a little background in doing math with  `natural logs` and `exponentials` will be required. The following NumPy, Matplotlib, and statsmodels functions will be used:\n",
    "\n",
    "    * `np.loadtxt`: this function loads text into a NumPy array\n",
    "    * `np.log`: this function takes the natural log of all elements in a NumPy array\n",
    "    * `np.exp`: this function takes the exponential of all elements in a NumPy array\n",
    "    * `lambda`: this is a minimal function definition for creating a function model\n",
    "    * `plt.semilogy`: this function will plot x-y data onto a figure with a linear x-axis and <math xmlns=\"http://www.w3.org/1998/Math/MathML\"><msub><mi>log</mi><mrow data-mjx-texclass=\"ORD\"><mn>10</mn></mrow></msub></math> y-axis\n",
    "    * `plt.plot`: this function will plot x-y data on linear axes\n",
    "    * `sm.OLS`: find fitting parameters and standard errors using the statsmodels ordinary least squares model\n",
    "    * <b>slicing arrays</b>: view parts of the data loaded into the workspace, slice the arrays e.g. x[:10] for the first 10 values in the array, x\n",
    "    * <b>boolean array indexing</b>: to view parts of the data that match a given condition use boolean operations to index an array\n",
    "    * `np.block`: to combine arrays into 2D arrays\n",
    "    * `np.newaxis`: to change a 1D vector to a row or column vector\n",
    "    * `np.savez` and `np.savetxt`: these two functions will save your arrays in zipped array format and text, respectively"
   ]
  },
  {
   "cell_type": "code",
   "execution_count": null,
   "metadata": {},
   "outputs": [],
   "source": []
  }
 ],
 "metadata": {
  "kernelspec": {
   "display_name": "Python 3.9.6 ('numpy-env': venv)",
   "language": "python",
   "name": "python3"
  },
  "language_info": {
   "name": "python",
   "version": "3.9.6"
  },
  "orig_nbformat": 4,
  "vscode": {
   "interpreter": {
    "hash": "e07381a18c4617a415946caa67d46b4c42c8d56d2c115aa50b3b0426ade0f84a"
   }
  }
 },
 "nbformat": 4,
 "nbformat_minor": 2
}
